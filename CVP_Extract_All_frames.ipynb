{
  "nbformat": 4,
  "nbformat_minor": 0,
  "metadata": {
    "colab": {
      "provenance": []
    },
    "kernelspec": {
      "name": "python3",
      "display_name": "Python 3"
    },
    "language_info": {
      "name": "python"
    }
  },
  "cells": [
    {
      "cell_type": "code",
      "execution_count": null,
      "metadata": {
        "id": "1pQW8qR7AfqQ"
      },
      "outputs": [],
      "source": [
        "import cv2\n",
        "import os\n",
        "from tqdm import tqdm\n",
        "\n",
        "def extract_all_frames(video_path, output_dir):\n",
        "    if not os.path.exists(output_dir):\n",
        "        os.makedirs(output_dir)\n",
        "\n",
        "    cap = cv2.VideoCapture(video_path)\n",
        "    total_frames = int(cap.get(cv2.CAP_PROP_FRAME_COUNT))\n",
        "\n",
        "    frame_count = 0\n",
        "    success = True\n",
        "\n",
        "    with tqdm(total=total_frames, desc=f\"Extracting frames from {os.path.basename(video_path)}\") as pbar:\n",
        "        while success:\n",
        "            success, frame = cap.read()\n",
        "            if not success:\n",
        "                break\n",
        "            frame_filename = os.path.join(output_dir, f\"frame_{frame_count:04d}.jpg\")\n",
        "            cv2.imwrite(frame_filename, frame)\n",
        "            frame_count += 1\n",
        "            pbar.update(1)\n",
        "\n",
        "    cap.release()\n",
        "    print(f\"\\n✅ Extracted {frame_count} frames from {video_path} to {output_dir}\")\n"
      ]
    },
    {
      "cell_type": "code",
      "source": [
        "from google.colab import drive\n",
        "\n",
        "\n",
        "# Mount Google Drive\n",
        "drive.mount('/content/drive')\n",
        "\n",
        "# Define paths\n",
        "video_folder = \"/content/drive/MyDrive/ydata-tvsum50-v1_1/ydata-tvsum50-video/video\"\n",
        "output_root = \"/content/drive/MyDrive/CV_tvsum_frames\"  # Where extracted frames will go\n",
        "extract_all_frames(video_folder, output_root)"
      ],
      "metadata": {
        "colab": {
          "base_uri": "https://localhost:8080/"
        },
        "id": "20p5Bj0QB9Y1",
        "outputId": "2f43c828-8487-4517-8ad0-b2e22d559fcf"
      },
      "execution_count": null,
      "outputs": [
        {
          "output_type": "stream",
          "name": "stdout",
          "text": [
            "Mounted at /content/drive\n"
          ]
        },
        {
          "output_type": "stream",
          "name": "stderr",
          "text": [
            "Extracting frames from video: 0it [00:00, ?it/s]"
          ]
        },
        {
          "output_type": "stream",
          "name": "stdout",
          "text": [
            "\n",
            "✅ Extracted 0 frames from /content/drive/MyDrive/ydata-tvsum50-v1_1/ydata-tvsum50-video/video to /content/drive/MyDrive/CV_tvsum_frames\n"
          ]
        },
        {
          "output_type": "stream",
          "name": "stderr",
          "text": [
            "\n"
          ]
        }
      ]
    },
    {
      "cell_type": "code",
      "source": [
        "import cv2\n",
        "import os\n",
        "from tqdm import tqdm\n",
        "\n",
        "def extract_all_frames_from_folder(video_folder, output_base_dir):\n",
        "    # Get a list of all video files in the folder\n",
        "    video_files = [f for f in os.listdir(video_folder) if f.endswith(('.mp4', '.avi', '.mov'))]\n",
        "\n",
        "    # Loop through each video file\n",
        "    for video_file in video_files:\n",
        "        video_path = os.path.join(video_folder, video_file)\n",
        "        output_dir = os.path.join(output_base_dir, video_file.split('.')[0])  # Subfolder per video\n",
        "        extract_all_frames(video_path, output_dir)\n",
        "\n",
        "def extract_all_frames(video_path, output_dir):\n",
        "    if not os.path.exists(output_dir):\n",
        "        os.makedirs(output_dir)\n",
        "\n",
        "    cap = cv2.VideoCapture(video_path)\n",
        "    if not cap.isOpened():\n",
        "        print(\"❌ Failed to open video:\", video_path)\n",
        "        return\n",
        "\n",
        "    total_frames = int(cap.get(cv2.CAP_PROP_FRAME_COUNT))\n",
        "    frame_count = 0\n",
        "    success = True\n",
        "\n",
        "    # tqdm for progress bar\n",
        "    with tqdm(total=total_frames, desc=f\"Extracting frames from {os.path.basename(video_path)}\") as pbar:\n",
        "        while success:\n",
        "            success, frame = cap.read()\n",
        "            if not success:\n",
        "                break\n",
        "            frame_filename = os.path.join(output_dir, f\"frame_{frame_count:04d}.jpg\")\n",
        "            cv2.imwrite(frame_filename, frame)\n",
        "            frame_count += 1\n",
        "            pbar.update(1)\n",
        "\n",
        "    cap.release()\n",
        "    print(f\"\\n✅ Extracted {frame_count} frames from {video_path} to {output_dir}\")\n",
        "\n",
        "# Example usage:\n",
        "video_folder = \"/content/drive/MyDrive/ydata-tvsum50-v1_1/ydata-tvsum50-video/video\"\n",
        "output_base_dir = \"/content/drive/MyDrive/CV_tvsum_frames\"\n",
        "extract_all_frames_from_folder(video_folder, output_base_dir)\n"
      ],
      "metadata": {
        "colab": {
          "base_uri": "https://localhost:8080/",
          "height": 775
        },
        "id": "tiZAYJIhDWzd",
        "outputId": "1ced6188-0dd8-499a-deaa-acaa58218229"
      },
      "execution_count": null,
      "outputs": [
        {
          "output_type": "stream",
          "name": "stderr",
          "text": [
            "Extracting frames from 0tmA_C6XwfM.mp4: 100%|██████████| 3532/3532 [00:30<00:00, 116.55it/s]\n"
          ]
        },
        {
          "output_type": "stream",
          "name": "stdout",
          "text": [
            "\n",
            "✅ Extracted 3532 frames from /content/drive/MyDrive/ydata-tvsum50-v1_1/ydata-tvsum50-video/video/0tmA_C6XwfM.mp4 to /content/drive/MyDrive/CV_tvsum_frames/0tmA_C6XwfM\n"
          ]
        },
        {
          "output_type": "stream",
          "name": "stderr",
          "text": [
            "Extracting frames from -esJrBWj2d8.mp4: 100%|██████████| 6912/6912 [01:05<00:00, 105.33it/s]\n"
          ]
        },
        {
          "output_type": "stream",
          "name": "stdout",
          "text": [
            "\n",
            "✅ Extracted 6912 frames from /content/drive/MyDrive/ydata-tvsum50-v1_1/ydata-tvsum50-video/video/-esJrBWj2d8.mp4 to /content/drive/MyDrive/CV_tvsum_frames/-esJrBWj2d8\n"
          ]
        },
        {
          "output_type": "stream",
          "name": "stderr",
          "text": [
            "Extracting frames from 37rzWOQsNIw.mp4: 100%|██████████| 5742/5742 [00:57<00:00, 100.55it/s]\n"
          ]
        },
        {
          "output_type": "stream",
          "name": "stdout",
          "text": [
            "\n",
            "✅ Extracted 5742 frames from /content/drive/MyDrive/ydata-tvsum50-v1_1/ydata-tvsum50-video/video/37rzWOQsNIw.mp4 to /content/drive/MyDrive/CV_tvsum_frames/37rzWOQsNIw\n"
          ]
        },
        {
          "output_type": "stream",
          "name": "stderr",
          "text": [
            "Extracting frames from 98MoyGZKHXc.mp4: 100%|██████████| 4688/4688 [00:44<00:00, 104.95it/s]\n"
          ]
        },
        {
          "output_type": "stream",
          "name": "stdout",
          "text": [
            "\n",
            "✅ Extracted 4688 frames from /content/drive/MyDrive/ydata-tvsum50-v1_1/ydata-tvsum50-video/video/98MoyGZKHXc.mp4 to /content/drive/MyDrive/CV_tvsum_frames/98MoyGZKHXc\n"
          ]
        },
        {
          "output_type": "stream",
          "name": "stderr",
          "text": [
            "Extracting frames from 4wU_LUjG5Ic.mp4: 100%|██████████| 4005/4005 [00:40<00:00, 99.48it/s] \n"
          ]
        },
        {
          "output_type": "stream",
          "name": "stdout",
          "text": [
            "\n",
            "✅ Extracted 4005 frames from /content/drive/MyDrive/ydata-tvsum50-v1_1/ydata-tvsum50-video/video/4wU_LUjG5Ic.mp4 to /content/drive/MyDrive/CV_tvsum_frames/4wU_LUjG5Ic\n"
          ]
        },
        {
          "output_type": "stream",
          "name": "stderr",
          "text": [
            "Extracting frames from Bhxk-O1Y7Ho.mp4: 100%|██████████| 13511/13511 [02:13<00:00, 101.01it/s]\n"
          ]
        },
        {
          "output_type": "stream",
          "name": "stdout",
          "text": [
            "\n",
            "✅ Extracted 13511 frames from /content/drive/MyDrive/ydata-tvsum50-v1_1/ydata-tvsum50-video/video/Bhxk-O1Y7Ho.mp4 to /content/drive/MyDrive/CV_tvsum_frames/Bhxk-O1Y7Ho\n"
          ]
        },
        {
          "output_type": "stream",
          "name": "stderr",
          "text": [
            "Extracting frames from _xMr-HKMfVA.mp4: 100%|██████████| 4463/4463 [00:41<00:00, 108.48it/s]\n"
          ]
        },
        {
          "output_type": "stream",
          "name": "stdout",
          "text": [
            "\n",
            "✅ Extracted 4463 frames from /content/drive/MyDrive/ydata-tvsum50-v1_1/ydata-tvsum50-video/video/_xMr-HKMfVA.mp4 to /content/drive/MyDrive/CV_tvsum_frames/_xMr-HKMfVA\n"
          ]
        },
        {
          "output_type": "stream",
          "name": "stderr",
          "text": [
            "Extracting frames from b626MiF1ew4.mp4: 100%|██████████| 5661/5661 [00:58<00:00, 96.79it/s] \n"
          ]
        },
        {
          "output_type": "stream",
          "name": "stdout",
          "text": [
            "\n",
            "✅ Extracted 5661 frames from /content/drive/MyDrive/ydata-tvsum50-v1_1/ydata-tvsum50-video/video/b626MiF1ew4.mp4 to /content/drive/MyDrive/CV_tvsum_frames/b626MiF1ew4\n"
          ]
        },
        {
          "output_type": "stream",
          "name": "stderr",
          "text": [
            "Extracting frames from AwmHb44_ouw.mp4:  52%|█████▏    | 5548/10597 [04:44<04:19, 19.47it/s]\n"
          ]
        },
        {
          "output_type": "error",
          "ename": "KeyboardInterrupt",
          "evalue": "",
          "traceback": [
            "\u001b[0;31m---------------------------------------------------------------------------\u001b[0m",
            "\u001b[0;31mKeyboardInterrupt\u001b[0m                         Traceback (most recent call last)",
            "\u001b[0;32m<ipython-input-5-aa71fee48a6d>\u001b[0m in \u001b[0;36m<cell line: 0>\u001b[0;34m()\u001b[0m\n\u001b[1;32m     43\u001b[0m \u001b[0mvideo_folder\u001b[0m \u001b[0;34m=\u001b[0m \u001b[0;34m\"/content/drive/MyDrive/ydata-tvsum50-v1_1/ydata-tvsum50-video/video\"\u001b[0m\u001b[0;34m\u001b[0m\u001b[0;34m\u001b[0m\u001b[0m\n\u001b[1;32m     44\u001b[0m \u001b[0moutput_base_dir\u001b[0m \u001b[0;34m=\u001b[0m \u001b[0;34m\"/content/drive/MyDrive/CV_tvsum_frames\"\u001b[0m\u001b[0;34m\u001b[0m\u001b[0;34m\u001b[0m\u001b[0m\n\u001b[0;32m---> 45\u001b[0;31m \u001b[0mextract_all_frames_from_folder\u001b[0m\u001b[0;34m(\u001b[0m\u001b[0mvideo_folder\u001b[0m\u001b[0;34m,\u001b[0m \u001b[0moutput_base_dir\u001b[0m\u001b[0;34m)\u001b[0m\u001b[0;34m\u001b[0m\u001b[0;34m\u001b[0m\u001b[0m\n\u001b[0m",
            "\u001b[0;32m<ipython-input-5-aa71fee48a6d>\u001b[0m in \u001b[0;36mextract_all_frames_from_folder\u001b[0;34m(video_folder, output_base_dir)\u001b[0m\n\u001b[1;32m     11\u001b[0m         \u001b[0mvideo_path\u001b[0m \u001b[0;34m=\u001b[0m \u001b[0mos\u001b[0m\u001b[0;34m.\u001b[0m\u001b[0mpath\u001b[0m\u001b[0;34m.\u001b[0m\u001b[0mjoin\u001b[0m\u001b[0;34m(\u001b[0m\u001b[0mvideo_folder\u001b[0m\u001b[0;34m,\u001b[0m \u001b[0mvideo_file\u001b[0m\u001b[0;34m)\u001b[0m\u001b[0;34m\u001b[0m\u001b[0;34m\u001b[0m\u001b[0m\n\u001b[1;32m     12\u001b[0m         \u001b[0moutput_dir\u001b[0m \u001b[0;34m=\u001b[0m \u001b[0mos\u001b[0m\u001b[0;34m.\u001b[0m\u001b[0mpath\u001b[0m\u001b[0;34m.\u001b[0m\u001b[0mjoin\u001b[0m\u001b[0;34m(\u001b[0m\u001b[0moutput_base_dir\u001b[0m\u001b[0;34m,\u001b[0m \u001b[0mvideo_file\u001b[0m\u001b[0;34m.\u001b[0m\u001b[0msplit\u001b[0m\u001b[0;34m(\u001b[0m\u001b[0;34m'.'\u001b[0m\u001b[0;34m)\u001b[0m\u001b[0;34m[\u001b[0m\u001b[0;36m0\u001b[0m\u001b[0;34m]\u001b[0m\u001b[0;34m)\u001b[0m  \u001b[0;31m# Subfolder per video\u001b[0m\u001b[0;34m\u001b[0m\u001b[0;34m\u001b[0m\u001b[0m\n\u001b[0;32m---> 13\u001b[0;31m         \u001b[0mextract_all_frames\u001b[0m\u001b[0;34m(\u001b[0m\u001b[0mvideo_path\u001b[0m\u001b[0;34m,\u001b[0m \u001b[0moutput_dir\u001b[0m\u001b[0;34m)\u001b[0m\u001b[0;34m\u001b[0m\u001b[0;34m\u001b[0m\u001b[0m\n\u001b[0m\u001b[1;32m     14\u001b[0m \u001b[0;34m\u001b[0m\u001b[0m\n\u001b[1;32m     15\u001b[0m \u001b[0;32mdef\u001b[0m \u001b[0mextract_all_frames\u001b[0m\u001b[0;34m(\u001b[0m\u001b[0mvideo_path\u001b[0m\u001b[0;34m,\u001b[0m \u001b[0moutput_dir\u001b[0m\u001b[0;34m)\u001b[0m\u001b[0;34m:\u001b[0m\u001b[0;34m\u001b[0m\u001b[0;34m\u001b[0m\u001b[0m\n",
            "\u001b[0;32m<ipython-input-5-aa71fee48a6d>\u001b[0m in \u001b[0;36mextract_all_frames\u001b[0;34m(video_path, output_dir)\u001b[0m\n\u001b[1;32m     33\u001b[0m                 \u001b[0;32mbreak\u001b[0m\u001b[0;34m\u001b[0m\u001b[0;34m\u001b[0m\u001b[0m\n\u001b[1;32m     34\u001b[0m             \u001b[0mframe_filename\u001b[0m \u001b[0;34m=\u001b[0m \u001b[0mos\u001b[0m\u001b[0;34m.\u001b[0m\u001b[0mpath\u001b[0m\u001b[0;34m.\u001b[0m\u001b[0mjoin\u001b[0m\u001b[0;34m(\u001b[0m\u001b[0moutput_dir\u001b[0m\u001b[0;34m,\u001b[0m \u001b[0;34mf\"frame_{frame_count:04d}.jpg\"\u001b[0m\u001b[0;34m)\u001b[0m\u001b[0;34m\u001b[0m\u001b[0;34m\u001b[0m\u001b[0m\n\u001b[0;32m---> 35\u001b[0;31m             \u001b[0mcv2\u001b[0m\u001b[0;34m.\u001b[0m\u001b[0mimwrite\u001b[0m\u001b[0;34m(\u001b[0m\u001b[0mframe_filename\u001b[0m\u001b[0;34m,\u001b[0m \u001b[0mframe\u001b[0m\u001b[0;34m)\u001b[0m\u001b[0;34m\u001b[0m\u001b[0;34m\u001b[0m\u001b[0m\n\u001b[0m\u001b[1;32m     36\u001b[0m             \u001b[0mframe_count\u001b[0m \u001b[0;34m+=\u001b[0m \u001b[0;36m1\u001b[0m\u001b[0;34m\u001b[0m\u001b[0;34m\u001b[0m\u001b[0m\n\u001b[1;32m     37\u001b[0m             \u001b[0mpbar\u001b[0m\u001b[0;34m.\u001b[0m\u001b[0mupdate\u001b[0m\u001b[0;34m(\u001b[0m\u001b[0;36m1\u001b[0m\u001b[0;34m)\u001b[0m\u001b[0;34m\u001b[0m\u001b[0;34m\u001b[0m\u001b[0m\n",
            "\u001b[0;31mKeyboardInterrupt\u001b[0m: "
          ]
        }
      ]
    },
    {
      "cell_type": "code",
      "source": [
        "import cv2\n",
        "import os\n",
        "from tqdm import tqdm\n",
        "from google.colab import drive\n",
        "\n",
        "\n",
        "# Mount Google Drive\n",
        "drive.mount('/content/drive')\n",
        "\n",
        "\n",
        "def extract_all_frames_from_folder(video_folder, output_base_dir):\n",
        "    # Get a list of all video files in the folder\n",
        "    video_files = [f for f in os.listdir(video_folder) if f.endswith(('.mp4', '.avi', '.mov'))]\n",
        "\n",
        "    # Loop through each video file\n",
        "    for video_file in video_files:\n",
        "        video_path = os.path.join(video_folder, video_file)\n",
        "        output_dir = os.path.join(output_base_dir, video_file.split('.')[0])  # Subfolder per video\n",
        "        extract_all_frames(video_path, output_dir)\n",
        "\n",
        "def extract_all_frames(video_path, output_dir):\n",
        "    if not os.path.exists(output_dir):\n",
        "        os.makedirs(output_dir)\n",
        "\n",
        "    cap = cv2.VideoCapture(video_path)\n",
        "    if not cap.isOpened():\n",
        "        print(\"❌ Failed to open video:\", video_path)\n",
        "        return\n",
        "\n",
        "    total_frames = int(cap.get(cv2.CAP_PROP_FRAME_COUNT))\n",
        "    frame_count = 0\n",
        "    success = True\n",
        "\n",
        "    # tqdm for progress bar\n",
        "    with tqdm(total=total_frames, desc=f\"Extracting frames from {os.path.basename(video_path)}\") as pbar:\n",
        "        while success:\n",
        "            success, frame = cap.read()\n",
        "            if not success:\n",
        "                break\n",
        "            # Ensure the frame numbering has 5 digits (or more depending on total frame count)\n",
        "            frame_filename = os.path.join(output_dir, f\"frame_{frame_count:05d}.jpg\")\n",
        "            cv2.imwrite(frame_filename, frame)\n",
        "            frame_count += 1\n",
        "            pbar.update(1)\n",
        "\n",
        "    cap.release()\n",
        "    print(f\"\\n✅ Extracted {frame_count} frames from {video_path} to {output_dir}\")\n",
        "\n",
        "# Example usage:\n",
        "video_folder = \"/content/drive/MyDrive/ydata-tvsum50-v1_1/ydata-tvsum50-video/video\"\n",
        "output_base_dir = \"/content/drive/MyDrive/CV_tvsum_frames\"\n",
        "extract_all_frames_from_folder(video_folder, output_base_dir)\n"
      ],
      "metadata": {
        "colab": {
          "base_uri": "https://localhost:8080/",
          "height": 1000
        },
        "id": "D9iptoxvHX50",
        "outputId": "29bb013d-1767-4e99-b665-4ccabb0790a0"
      },
      "execution_count": null,
      "outputs": [
        {
          "output_type": "stream",
          "name": "stdout",
          "text": [
            "Mounted at /content/drive\n"
          ]
        },
        {
          "output_type": "stream",
          "name": "stderr",
          "text": [
            "Extracting frames from 0tmA_C6XwfM.mp4: 100%|██████████| 3532/3532 [00:54<00:00, 65.31it/s]\n"
          ]
        },
        {
          "output_type": "stream",
          "name": "stdout",
          "text": [
            "\n",
            "✅ Extracted 3532 frames from /content/drive/MyDrive/ydata-tvsum50-v1_1/ydata-tvsum50-video/video/0tmA_C6XwfM.mp4 to /content/drive/MyDrive/CV_tvsum_frames/0tmA_C6XwfM\n"
          ]
        },
        {
          "output_type": "stream",
          "name": "stderr",
          "text": [
            "Extracting frames from -esJrBWj2d8.mp4: 100%|██████████| 6912/6912 [01:45<00:00, 65.52it/s]\n"
          ]
        },
        {
          "output_type": "stream",
          "name": "stdout",
          "text": [
            "\n",
            "✅ Extracted 6912 frames from /content/drive/MyDrive/ydata-tvsum50-v1_1/ydata-tvsum50-video/video/-esJrBWj2d8.mp4 to /content/drive/MyDrive/CV_tvsum_frames/-esJrBWj2d8\n"
          ]
        },
        {
          "output_type": "stream",
          "name": "stderr",
          "text": [
            "Extracting frames from 37rzWOQsNIw.mp4: 100%|██████████| 5742/5742 [01:31<00:00, 62.46it/s]\n"
          ]
        },
        {
          "output_type": "stream",
          "name": "stdout",
          "text": [
            "\n",
            "✅ Extracted 5742 frames from /content/drive/MyDrive/ydata-tvsum50-v1_1/ydata-tvsum50-video/video/37rzWOQsNIw.mp4 to /content/drive/MyDrive/CV_tvsum_frames/37rzWOQsNIw\n"
          ]
        },
        {
          "output_type": "stream",
          "name": "stderr",
          "text": [
            "Extracting frames from 98MoyGZKHXc.mp4: 100%|██████████| 4688/4688 [01:16<00:00, 61.61it/s]\n"
          ]
        },
        {
          "output_type": "stream",
          "name": "stdout",
          "text": [
            "\n",
            "✅ Extracted 4688 frames from /content/drive/MyDrive/ydata-tvsum50-v1_1/ydata-tvsum50-video/video/98MoyGZKHXc.mp4 to /content/drive/MyDrive/CV_tvsum_frames/98MoyGZKHXc\n"
          ]
        },
        {
          "output_type": "stream",
          "name": "stderr",
          "text": [
            "Extracting frames from 4wU_LUjG5Ic.mp4: 100%|██████████| 4005/4005 [01:06<00:00, 60.59it/s]\n"
          ]
        },
        {
          "output_type": "stream",
          "name": "stdout",
          "text": [
            "\n",
            "✅ Extracted 4005 frames from /content/drive/MyDrive/ydata-tvsum50-v1_1/ydata-tvsum50-video/video/4wU_LUjG5Ic.mp4 to /content/drive/MyDrive/CV_tvsum_frames/4wU_LUjG5Ic\n"
          ]
        },
        {
          "output_type": "stream",
          "name": "stderr",
          "text": [
            "Extracting frames from Bhxk-O1Y7Ho.mp4: 100%|██████████| 13511/13511 [03:46<00:00, 59.71it/s]\n"
          ]
        },
        {
          "output_type": "stream",
          "name": "stdout",
          "text": [
            "\n",
            "✅ Extracted 13511 frames from /content/drive/MyDrive/ydata-tvsum50-v1_1/ydata-tvsum50-video/video/Bhxk-O1Y7Ho.mp4 to /content/drive/MyDrive/CV_tvsum_frames/Bhxk-O1Y7Ho\n"
          ]
        },
        {
          "output_type": "stream",
          "name": "stderr",
          "text": [
            "Extracting frames from _xMr-HKMfVA.mp4: 100%|██████████| 4463/4463 [01:07<00:00, 66.36it/s]\n"
          ]
        },
        {
          "output_type": "stream",
          "name": "stdout",
          "text": [
            "\n",
            "✅ Extracted 4463 frames from /content/drive/MyDrive/ydata-tvsum50-v1_1/ydata-tvsum50-video/video/_xMr-HKMfVA.mp4 to /content/drive/MyDrive/CV_tvsum_frames/_xMr-HKMfVA\n"
          ]
        },
        {
          "output_type": "stream",
          "name": "stderr",
          "text": [
            "Extracting frames from b626MiF1ew4.mp4: 100%|██████████| 5661/5661 [01:34<00:00, 60.15it/s]\n"
          ]
        },
        {
          "output_type": "stream",
          "name": "stdout",
          "text": [
            "\n",
            "✅ Extracted 5661 frames from /content/drive/MyDrive/ydata-tvsum50-v1_1/ydata-tvsum50-video/video/b626MiF1ew4.mp4 to /content/drive/MyDrive/CV_tvsum_frames/b626MiF1ew4\n"
          ]
        },
        {
          "output_type": "stream",
          "name": "stderr",
          "text": [
            "Extracting frames from AwmHb44_ouw.mp4: 100%|██████████| 10597/10597 [02:56<00:00, 59.93it/s]\n"
          ]
        },
        {
          "output_type": "stream",
          "name": "stdout",
          "text": [
            "\n",
            "✅ Extracted 10597 frames from /content/drive/MyDrive/ydata-tvsum50-v1_1/ydata-tvsum50-video/video/AwmHb44_ouw.mp4 to /content/drive/MyDrive/CV_tvsum_frames/AwmHb44_ouw\n"
          ]
        },
        {
          "output_type": "stream",
          "name": "stderr",
          "text": [
            "Extracting frames from 91IHQYk1IQM.mp4: 100%|██████████| 3312/3312 [01:01<00:00, 53.54it/s]\n"
          ]
        },
        {
          "output_type": "stream",
          "name": "stdout",
          "text": [
            "\n",
            "✅ Extracted 3312 frames from /content/drive/MyDrive/ydata-tvsum50-v1_1/ydata-tvsum50-video/video/91IHQYk1IQM.mp4 to /content/drive/MyDrive/CV_tvsum_frames/91IHQYk1IQM\n"
          ]
        },
        {
          "output_type": "stream",
          "name": "stderr",
          "text": [
            "Extracting frames from 3eYKfiOEJNs.mp4: 100%|██████████| 4853/4853 [01:13<00:00, 66.08it/s]\n"
          ]
        },
        {
          "output_type": "stream",
          "name": "stdout",
          "text": [
            "\n",
            "✅ Extracted 4853 frames from /content/drive/MyDrive/ydata-tvsum50-v1_1/ydata-tvsum50-video/video/3eYKfiOEJNs.mp4 to /content/drive/MyDrive/CV_tvsum_frames/3eYKfiOEJNs\n"
          ]
        },
        {
          "output_type": "stream",
          "name": "stderr",
          "text": [
            "Extracting frames from akI8YFjEmUw.mp4: 100%|██████████| 3995/3995 [01:10<00:00, 56.36it/s]\n"
          ]
        },
        {
          "output_type": "stream",
          "name": "stdout",
          "text": [
            "\n",
            "✅ Extracted 3995 frames from /content/drive/MyDrive/ydata-tvsum50-v1_1/ydata-tvsum50-video/video/akI8YFjEmUw.mp4 to /content/drive/MyDrive/CV_tvsum_frames/akI8YFjEmUw\n"
          ]
        },
        {
          "output_type": "stream",
          "name": "stderr",
          "text": [
            "Extracting frames from cjibtmSLxQ4.mp4: 100%|██████████| 19406/19406 [05:19<00:00, 60.73it/s]\n"
          ]
        },
        {
          "output_type": "stream",
          "name": "stdout",
          "text": [
            "\n",
            "✅ Extracted 19406 frames from /content/drive/MyDrive/ydata-tvsum50-v1_1/ydata-tvsum50-video/video/cjibtmSLxQ4.mp4 to /content/drive/MyDrive/CV_tvsum_frames/cjibtmSLxQ4\n"
          ]
        },
        {
          "output_type": "stream",
          "name": "stderr",
          "text": [
            "Extracting frames from EE-bNr36nyA.mp4: 100%|██████████| 2941/2941 [00:48<00:00, 60.90it/s]\n"
          ]
        },
        {
          "output_type": "stream",
          "name": "stdout",
          "text": [
            "\n",
            "✅ Extracted 2941 frames from /content/drive/MyDrive/ydata-tvsum50-v1_1/ydata-tvsum50-video/video/EE-bNr36nyA.mp4 to /content/drive/MyDrive/CV_tvsum_frames/EE-bNr36nyA\n"
          ]
        },
        {
          "output_type": "stream",
          "name": "stderr",
          "text": [
            "Extracting frames from E11zDS9XGzg.mp4: 100%|██████████| 15307/15307 [04:46<00:00, 53.40it/s]\n"
          ]
        },
        {
          "output_type": "stream",
          "name": "stdout",
          "text": [
            "\n",
            "✅ Extracted 15307 frames from /content/drive/MyDrive/ydata-tvsum50-v1_1/ydata-tvsum50-video/video/E11zDS9XGzg.mp4 to /content/drive/MyDrive/CV_tvsum_frames/E11zDS9XGzg\n"
          ]
        },
        {
          "output_type": "stream",
          "name": "stderr",
          "text": [
            "Extracting frames from eQu1rNs0an0.mp4: 100%|██████████| 4931/4931 [01:22<00:00, 59.77it/s]\n"
          ]
        },
        {
          "output_type": "stream",
          "name": "stdout",
          "text": [
            "\n",
            "✅ Extracted 4931 frames from /content/drive/MyDrive/ydata-tvsum50-v1_1/ydata-tvsum50-video/video/eQu1rNs0an0.mp4 to /content/drive/MyDrive/CV_tvsum_frames/eQu1rNs0an0\n"
          ]
        },
        {
          "output_type": "stream",
          "name": "stderr",
          "text": [
            "Extracting frames from byxOvuiIJV0.mp4: 100%|██████████| 3705/3705 [01:03<00:00, 58.38it/s]\n"
          ]
        },
        {
          "output_type": "stream",
          "name": "stdout",
          "text": [
            "\n",
            "✅ Extracted 3705 frames from /content/drive/MyDrive/ydata-tvsum50-v1_1/ydata-tvsum50-video/video/byxOvuiIJV0.mp4 to /content/drive/MyDrive/CV_tvsum_frames/byxOvuiIJV0\n"
          ]
        },
        {
          "output_type": "stream",
          "name": "stderr",
          "text": [
            "Extracting frames from EYqVtI9YWJA.mp4: 100%|██████████| 5939/5939 [01:39<00:00, 59.96it/s]\n"
          ]
        },
        {
          "output_type": "stream",
          "name": "stdout",
          "text": [
            "\n",
            "✅ Extracted 5939 frames from /content/drive/MyDrive/ydata-tvsum50-v1_1/ydata-tvsum50-video/video/EYqVtI9YWJA.mp4 to /content/drive/MyDrive/CV_tvsum_frames/EYqVtI9YWJA\n"
          ]
        },
        {
          "output_type": "stream",
          "name": "stderr",
          "text": [
            "Extracting frames from iVt07TCkFM0.mp4: 100%|██████████| 2500/2500 [00:39<00:00, 62.93it/s]\n"
          ]
        },
        {
          "output_type": "stream",
          "name": "stdout",
          "text": [
            "\n",
            "✅ Extracted 2500 frames from /content/drive/MyDrive/ydata-tvsum50-v1_1/ydata-tvsum50-video/video/iVt07TCkFM0.mp4 to /content/drive/MyDrive/CV_tvsum_frames/iVt07TCkFM0\n"
          ]
        },
        {
          "output_type": "stream",
          "name": "stderr",
          "text": [
            "Extracting frames from i3wAGJaaktw.mp4: 100%|██████████| 4700/4700 [01:20<00:00, 58.10it/s]\n"
          ]
        },
        {
          "output_type": "stream",
          "name": "stdout",
          "text": [
            "\n",
            "✅ Extracted 4700 frames from /content/drive/MyDrive/ydata-tvsum50-v1_1/ydata-tvsum50-video/video/i3wAGJaaktw.mp4 to /content/drive/MyDrive/CV_tvsum_frames/i3wAGJaaktw\n"
          ]
        },
        {
          "output_type": "stream",
          "name": "stderr",
          "text": [
            "Extracting frames from Hl-__g2gn_A.mp4: 100%|██████████| 5846/5846 [01:39<00:00, 58.84it/s]\n"
          ]
        },
        {
          "output_type": "stream",
          "name": "stdout",
          "text": [
            "\n",
            "✅ Extracted 5846 frames from /content/drive/MyDrive/ydata-tvsum50-v1_1/ydata-tvsum50-video/video/Hl-__g2gn_A.mp4 to /content/drive/MyDrive/CV_tvsum_frames/Hl-__g2gn_A\n"
          ]
        },
        {
          "output_type": "stream",
          "name": "stderr",
          "text": [
            "Extracting frames from GsAD1KT1xo8.mp4: 100%|██████████| 4356/4356 [01:21<00:00, 53.44it/s]\n"
          ]
        },
        {
          "output_type": "stream",
          "name": "stdout",
          "text": [
            "\n",
            "✅ Extracted 4356 frames from /content/drive/MyDrive/ydata-tvsum50-v1_1/ydata-tvsum50-video/video/GsAD1KT1xo8.mp4 to /content/drive/MyDrive/CV_tvsum_frames/GsAD1KT1xo8\n"
          ]
        },
        {
          "output_type": "stream",
          "name": "stderr",
          "text": [
            "Extracting frames from HT5vyqe0Xaw.mp4: 100%|██████████| 9671/9671 [02:49<00:00, 57.20it/s]\n"
          ]
        },
        {
          "output_type": "stream",
          "name": "stdout",
          "text": [
            "\n",
            "✅ Extracted 9671 frames from /content/drive/MyDrive/ydata-tvsum50-v1_1/ydata-tvsum50-video/video/HT5vyqe0Xaw.mp4 to /content/drive/MyDrive/CV_tvsum_frames/HT5vyqe0Xaw\n"
          ]
        },
        {
          "output_type": "stream",
          "name": "stderr",
          "text": [
            "Extracting frames from gzDbaEs1Rlg.mp4: 100%|██████████| 7210/7210 [01:58<00:00, 61.10it/s]\n"
          ]
        },
        {
          "output_type": "stream",
          "name": "stdout",
          "text": [
            "\n",
            "✅ Extracted 7210 frames from /content/drive/MyDrive/ydata-tvsum50-v1_1/ydata-tvsum50-video/video/gzDbaEs1Rlg.mp4 to /content/drive/MyDrive/CV_tvsum_frames/gzDbaEs1Rlg\n"
          ]
        },
        {
          "output_type": "stream",
          "name": "stderr",
          "text": [
            "Extracting frames from fWutDQy1nnY.mp4: 100%|██████████| 17527/17527 [05:20<00:00, 54.64it/s]\n"
          ]
        },
        {
          "output_type": "stream",
          "name": "stdout",
          "text": [
            "\n",
            "✅ Extracted 17527 frames from /content/drive/MyDrive/ydata-tvsum50-v1_1/ydata-tvsum50-video/video/fWutDQy1nnY.mp4 to /content/drive/MyDrive/CV_tvsum_frames/fWutDQy1nnY\n"
          ]
        },
        {
          "output_type": "stream",
          "name": "stderr",
          "text": [
            "Extracting frames from J0nA4VgnoCo.mp4: 100%|██████████| 14019/14019 [03:57<00:00, 58.91it/s]\n"
          ]
        },
        {
          "output_type": "stream",
          "name": "stdout",
          "text": [
            "\n",
            "✅ Extracted 14019 frames from /content/drive/MyDrive/ydata-tvsum50-v1_1/ydata-tvsum50-video/video/J0nA4VgnoCo.mp4 to /content/drive/MyDrive/CV_tvsum_frames/J0nA4VgnoCo\n"
          ]
        },
        {
          "output_type": "stream",
          "name": "stderr",
          "text": [
            "Extracting frames from NyBmCxDoHJU.mp4: 100%|██████████| 4740/4740 [01:15<00:00, 62.85it/s]\n"
          ]
        },
        {
          "output_type": "stream",
          "name": "stdout",
          "text": [
            "\n",
            "✅ Extracted 4740 frames from /content/drive/MyDrive/ydata-tvsum50-v1_1/ydata-tvsum50-video/video/NyBmCxDoHJU.mp4 to /content/drive/MyDrive/CV_tvsum_frames/NyBmCxDoHJU\n"
          ]
        },
        {
          "output_type": "stream",
          "name": "stderr",
          "text": [
            "Extracting frames from JKpqYvAdIsw.mp4: 100%|██████████| 3802/3802 [00:57<00:00, 66.40it/s]\n"
          ]
        },
        {
          "output_type": "stream",
          "name": "stdout",
          "text": [
            "\n",
            "✅ Extracted 3802 frames from /content/drive/MyDrive/ydata-tvsum50-v1_1/ydata-tvsum50-video/video/JKpqYvAdIsw.mp4 to /content/drive/MyDrive/CV_tvsum_frames/JKpqYvAdIsw\n"
          ]
        },
        {
          "output_type": "stream",
          "name": "stderr",
          "text": [
            "Extracting frames from qqR6AEXwxoQ.mp4: 100%|██████████| 8073/8073 [02:11<00:00, 61.20it/s]\n"
          ]
        },
        {
          "output_type": "stream",
          "name": "stdout",
          "text": [
            "\n",
            "✅ Extracted 8073 frames from /content/drive/MyDrive/ydata-tvsum50-v1_1/ydata-tvsum50-video/video/qqR6AEXwxoQ.mp4 to /content/drive/MyDrive/CV_tvsum_frames/qqR6AEXwxoQ\n"
          ]
        },
        {
          "output_type": "stream",
          "name": "stderr",
          "text": [
            "Extracting frames from kLxoNp-UchI.mp4: 100%|██████████| 3896/3896 [01:02<00:00, 61.89it/s]\n"
          ]
        },
        {
          "output_type": "stream",
          "name": "stdout",
          "text": [
            "\n",
            "✅ Extracted 3896 frames from /content/drive/MyDrive/ydata-tvsum50-v1_1/ydata-tvsum50-video/video/kLxoNp-UchI.mp4 to /content/drive/MyDrive/CV_tvsum_frames/kLxoNp-UchI\n"
          ]
        },
        {
          "output_type": "stream",
          "name": "stderr",
          "text": [
            "Extracting frames from jcoYJXDG9sw.mp4: 100%|██████████| 5971/5971 [01:48<00:00, 54.86it/s]\n"
          ]
        },
        {
          "output_type": "stream",
          "name": "stdout",
          "text": [
            "\n",
            "✅ Extracted 5971 frames from /content/drive/MyDrive/ydata-tvsum50-v1_1/ydata-tvsum50-video/video/jcoYJXDG9sw.mp4 to /content/drive/MyDrive/CV_tvsum_frames/jcoYJXDG9sw\n"
          ]
        },
        {
          "output_type": "stream",
          "name": "stderr",
          "text": [
            "Extracting frames from oDXZc0tZe04.mp4:  60%|█████▉    | 6818/11414 [01:57<01:19, 57.87it/s]\n"
          ]
        },
        {
          "output_type": "error",
          "ename": "KeyboardInterrupt",
          "evalue": "",
          "traceback": [
            "\u001b[0;31m---------------------------------------------------------------------------\u001b[0m",
            "\u001b[0;31mKeyboardInterrupt\u001b[0m                         Traceback (most recent call last)",
            "\u001b[0;32m<ipython-input-2-2c99d6a2a6d2>\u001b[0m in \u001b[0;36m<cell line: 0>\u001b[0;34m()\u001b[0m\n\u001b[1;32m     50\u001b[0m \u001b[0mvideo_folder\u001b[0m \u001b[0;34m=\u001b[0m \u001b[0;34m\"/content/drive/MyDrive/ydata-tvsum50-v1_1/ydata-tvsum50-video/video\"\u001b[0m\u001b[0;34m\u001b[0m\u001b[0;34m\u001b[0m\u001b[0m\n\u001b[1;32m     51\u001b[0m \u001b[0moutput_base_dir\u001b[0m \u001b[0;34m=\u001b[0m \u001b[0;34m\"/content/drive/MyDrive/CV_tvsum_frames\"\u001b[0m\u001b[0;34m\u001b[0m\u001b[0;34m\u001b[0m\u001b[0m\n\u001b[0;32m---> 52\u001b[0;31m \u001b[0mextract_all_frames_from_folder\u001b[0m\u001b[0;34m(\u001b[0m\u001b[0mvideo_folder\u001b[0m\u001b[0;34m,\u001b[0m \u001b[0moutput_base_dir\u001b[0m\u001b[0;34m)\u001b[0m\u001b[0;34m\u001b[0m\u001b[0;34m\u001b[0m\u001b[0m\n\u001b[0m",
            "\u001b[0;32m<ipython-input-2-2c99d6a2a6d2>\u001b[0m in \u001b[0;36mextract_all_frames_from_folder\u001b[0;34m(video_folder, output_base_dir)\u001b[0m\n\u001b[1;32m     17\u001b[0m         \u001b[0mvideo_path\u001b[0m \u001b[0;34m=\u001b[0m \u001b[0mos\u001b[0m\u001b[0;34m.\u001b[0m\u001b[0mpath\u001b[0m\u001b[0;34m.\u001b[0m\u001b[0mjoin\u001b[0m\u001b[0;34m(\u001b[0m\u001b[0mvideo_folder\u001b[0m\u001b[0;34m,\u001b[0m \u001b[0mvideo_file\u001b[0m\u001b[0;34m)\u001b[0m\u001b[0;34m\u001b[0m\u001b[0;34m\u001b[0m\u001b[0m\n\u001b[1;32m     18\u001b[0m         \u001b[0moutput_dir\u001b[0m \u001b[0;34m=\u001b[0m \u001b[0mos\u001b[0m\u001b[0;34m.\u001b[0m\u001b[0mpath\u001b[0m\u001b[0;34m.\u001b[0m\u001b[0mjoin\u001b[0m\u001b[0;34m(\u001b[0m\u001b[0moutput_base_dir\u001b[0m\u001b[0;34m,\u001b[0m \u001b[0mvideo_file\u001b[0m\u001b[0;34m.\u001b[0m\u001b[0msplit\u001b[0m\u001b[0;34m(\u001b[0m\u001b[0;34m'.'\u001b[0m\u001b[0;34m)\u001b[0m\u001b[0;34m[\u001b[0m\u001b[0;36m0\u001b[0m\u001b[0;34m]\u001b[0m\u001b[0;34m)\u001b[0m  \u001b[0;31m# Subfolder per video\u001b[0m\u001b[0;34m\u001b[0m\u001b[0;34m\u001b[0m\u001b[0m\n\u001b[0;32m---> 19\u001b[0;31m         \u001b[0mextract_all_frames\u001b[0m\u001b[0;34m(\u001b[0m\u001b[0mvideo_path\u001b[0m\u001b[0;34m,\u001b[0m \u001b[0moutput_dir\u001b[0m\u001b[0;34m)\u001b[0m\u001b[0;34m\u001b[0m\u001b[0;34m\u001b[0m\u001b[0m\n\u001b[0m\u001b[1;32m     20\u001b[0m \u001b[0;34m\u001b[0m\u001b[0m\n\u001b[1;32m     21\u001b[0m \u001b[0;32mdef\u001b[0m \u001b[0mextract_all_frames\u001b[0m\u001b[0;34m(\u001b[0m\u001b[0mvideo_path\u001b[0m\u001b[0;34m,\u001b[0m \u001b[0moutput_dir\u001b[0m\u001b[0;34m)\u001b[0m\u001b[0;34m:\u001b[0m\u001b[0;34m\u001b[0m\u001b[0;34m\u001b[0m\u001b[0m\n",
            "\u001b[0;32m<ipython-input-2-2c99d6a2a6d2>\u001b[0m in \u001b[0;36mextract_all_frames\u001b[0;34m(video_path, output_dir)\u001b[0m\n\u001b[1;32m     40\u001b[0m             \u001b[0;31m# Ensure the frame numbering has 5 digits (or more depending on total frame count)\u001b[0m\u001b[0;34m\u001b[0m\u001b[0;34m\u001b[0m\u001b[0m\n\u001b[1;32m     41\u001b[0m             \u001b[0mframe_filename\u001b[0m \u001b[0;34m=\u001b[0m \u001b[0mos\u001b[0m\u001b[0;34m.\u001b[0m\u001b[0mpath\u001b[0m\u001b[0;34m.\u001b[0m\u001b[0mjoin\u001b[0m\u001b[0;34m(\u001b[0m\u001b[0moutput_dir\u001b[0m\u001b[0;34m,\u001b[0m \u001b[0;34mf\"frame_{frame_count:05d}.jpg\"\u001b[0m\u001b[0;34m)\u001b[0m\u001b[0;34m\u001b[0m\u001b[0;34m\u001b[0m\u001b[0m\n\u001b[0;32m---> 42\u001b[0;31m             \u001b[0mcv2\u001b[0m\u001b[0;34m.\u001b[0m\u001b[0mimwrite\u001b[0m\u001b[0;34m(\u001b[0m\u001b[0mframe_filename\u001b[0m\u001b[0;34m,\u001b[0m \u001b[0mframe\u001b[0m\u001b[0;34m)\u001b[0m\u001b[0;34m\u001b[0m\u001b[0;34m\u001b[0m\u001b[0m\n\u001b[0m\u001b[1;32m     43\u001b[0m             \u001b[0mframe_count\u001b[0m \u001b[0;34m+=\u001b[0m \u001b[0;36m1\u001b[0m\u001b[0;34m\u001b[0m\u001b[0;34m\u001b[0m\u001b[0m\n\u001b[1;32m     44\u001b[0m             \u001b[0mpbar\u001b[0m\u001b[0;34m.\u001b[0m\u001b[0mupdate\u001b[0m\u001b[0;34m(\u001b[0m\u001b[0;36m1\u001b[0m\u001b[0;34m)\u001b[0m\u001b[0;34m\u001b[0m\u001b[0;34m\u001b[0m\u001b[0m\n",
            "\u001b[0;31mKeyboardInterrupt\u001b[0m: "
          ]
        }
      ]
    },
    {
      "cell_type": "code",
      "source": [
        "import os\n",
        "import glob\n",
        "from google.colab import drive\n",
        "\n",
        "# Mount Google Drive\n",
        "drive.mount('/content/drive')\n",
        "\n",
        "\n",
        "def count_images_in_subfolders(root_folder):\n",
        "    i= 0\n",
        "    for subdir, dirs, files in os.walk(root_folder):\n",
        "        jpg_files = glob.glob(os.path.join(subdir, \"*.jpg\"))\n",
        "\n",
        "        if subdir != root_folder:  # Exclude the root folder itself\n",
        "            print(i, end=' ')\n",
        "            i+=1\n",
        "            print(f\"{os.path.basename(subdir)}: {len(jpg_files)} images\")\n",
        "\n",
        "# Example usage:\n",
        "root_folder = \"/content/drive/MyDrive/CV_tvsum_frames\"\n",
        "count_images_in_subfolders(root_folder)\n"
      ],
      "metadata": {
        "colab": {
          "base_uri": "https://localhost:8080/"
        },
        "id": "TZVmuuBlWt7b",
        "outputId": "0419f676-2e86-4263-d2b5-348462650e5e"
      },
      "execution_count": null,
      "outputs": [
        {
          "output_type": "stream",
          "name": "stdout",
          "text": [
            "Mounted at /content/drive\n",
            "0 b626MiF1ew4: 5661 images\n",
            "1 AwmHb44_ouw: 10597 images\n",
            "2 91IHQYk1IQM: 3312 images\n",
            "3 3eYKfiOEJNs: 4853 images\n",
            "4 akI8YFjEmUw: 3995 images\n",
            "5 cjibtmSLxQ4: 19406 images\n",
            "6 EE-bNr36nyA: 2941 images\n",
            "7 E11zDS9XGzg: 15307 images\n",
            "8 -esJrBWj2d8: 6912 images\n",
            "9 eQu1rNs0an0: 4931 images\n",
            "10 byxOvuiIJV0: 3705 images\n",
            "11 EYqVtI9YWJA: 5939 images\n",
            "12 iVt07TCkFM0: 2500 images\n",
            "13 i3wAGJaaktw: 4700 images\n",
            "14 0tmA_C6XwfM: 3532 images\n",
            "15 37rzWOQsNIw: 5742 images\n",
            "16 98MoyGZKHXc: 4688 images\n",
            "17 4wU_LUjG5Ic: 4005 images\n",
            "18 Bhxk-O1Y7Ho: 13511 images\n",
            "19 _xMr-HKMfVA: 4463 images\n",
            "20 JKpqYvAdIsw: 3802 images\n",
            "21 NyBmCxDoHJU: 4740 images\n",
            "22 gzDbaEs1Rlg: 7210 images\n",
            "23 HT5vyqe0Xaw: 9671 images\n",
            "24 GsAD1KT1xo8: 4356 images\n",
            "25 Hl-__g2gn_A: 5846 images\n"
          ]
        }
      ]
    },
    {
      "cell_type": "code",
      "source": [],
      "metadata": {
        "id": "LSTg6HPu3COt"
      },
      "execution_count": null,
      "outputs": []
    },
    {
      "cell_type": "code",
      "source": [
        "import shutil\n",
        "import os\n",
        "\n",
        "folder_path = \"/content/drive/MyDrive/CV_tvsum_frames/oDXZc0tZe04\"\n",
        "\n",
        "if os.path.exists(folder_path):\n",
        "    shutil.rmtree(folder_path)\n",
        "    print(f\"✅ Deleted folder: {folder_path}\")\n",
        "else:\n",
        "    print(f\"❌ Folder not found: {folder_path}\")\n"
      ],
      "metadata": {
        "colab": {
          "base_uri": "https://localhost:8080/"
        },
        "id": "1G5a1D0lyDcN",
        "outputId": "4b17f265-0ad5-4ce6-cfc6-6cffb12ab577"
      },
      "execution_count": null,
      "outputs": [
        {
          "output_type": "stream",
          "name": "stdout",
          "text": [
            "✅ Deleted folder: /content/drive/MyDrive/CV_tvsum_frames/oDXZc0tZe04\n"
          ]
        }
      ]
    },
    {
      "cell_type": "code",
      "source": [
        "import shutil\n",
        "import os\n",
        "\n",
        "folder_path = \"/content/drive/MyDrive/CV_tvsum_frames/jcoYJXDG9sw\"\n",
        "\n",
        "if os.path.exists(folder_path):\n",
        "    shutil.rmtree(folder_path)\n",
        "    print(f\"✅ Deleted folder: {folder_path}\")\n",
        "else:\n",
        "    print(f\"❌ Folder not found: {folder_path}\")\n"
      ],
      "metadata": {
        "colab": {
          "base_uri": "https://localhost:8080/"
        },
        "id": "rHPZ9TQY2iD7",
        "outputId": "c3883fcc-5648-40f8-94b3-7d373b53e877"
      },
      "execution_count": null,
      "outputs": [
        {
          "output_type": "stream",
          "name": "stdout",
          "text": [
            "✅ Deleted folder: /content/drive/MyDrive/CV_tvsum_frames/jcoYJXDG9sw\n"
          ]
        }
      ]
    },
    {
      "cell_type": "code",
      "source": [
        "import shutil\n",
        "import os\n",
        "\n",
        "folder_path = \"/content/drive/MyDrive/CV_tvsum_frames/kLxoNp-UchI\"\n",
        "\n",
        "if os.path.exists(folder_path):\n",
        "    shutil.rmtree(folder_path)\n",
        "    print(f\"✅ Deleted folder: {folder_path}\")\n",
        "else:\n",
        "    print(f\"❌ Folder not found: {folder_path}\")\n"
      ],
      "metadata": {
        "colab": {
          "base_uri": "https://localhost:8080/"
        },
        "id": "kI_ArWeR3FsF",
        "outputId": "18b79dab-1195-4085-d283-82ef61935722"
      },
      "execution_count": null,
      "outputs": [
        {
          "output_type": "stream",
          "name": "stdout",
          "text": [
            "✅ Deleted folder: /content/drive/MyDrive/CV_tvsum_frames/kLxoNp-UchI\n"
          ]
        }
      ]
    },
    {
      "cell_type": "code",
      "source": [
        "\n",
        "import shutil\n",
        "import os\n",
        "\n",
        "folder_path = \"/content/drive/MyDrive/CV_tvsum_frames/qqR6AEXwxoQ\"\n",
        "\n",
        "if os.path.exists(folder_path):\n",
        "    shutil.rmtree(folder_path)\n",
        "    print(f\"✅ Deleted folder: {folder_path}\")\n",
        "else:\n",
        "    print(f\"❌ Folder not found: {folder_path}\")\n"
      ],
      "metadata": {
        "colab": {
          "base_uri": "https://localhost:8080/"
        },
        "id": "QObExdMX5JIn",
        "outputId": "93b22a2b-ab0f-41fa-dd4a-7eea6d957ab8"
      },
      "execution_count": null,
      "outputs": [
        {
          "output_type": "stream",
          "name": "stdout",
          "text": [
            "✅ Deleted folder: /content/drive/MyDrive/CV_tvsum_frames/qqR6AEXwxoQ\n"
          ]
        }
      ]
    },
    {
      "cell_type": "code",
      "source": [
        "\n",
        "import shutil\n",
        "import os\n",
        "\n",
        "folder_path = \"/content/drive/MyDrive/CV_tvsum_frames/J0nA4VgnoCo\"\n",
        "\n",
        "if os.path.exists(folder_path):\n",
        "    shutil.rmtree(folder_path)\n",
        "    print(f\"✅ Deleted folder: {folder_path}\")\n",
        "else:\n",
        "    print(f\"❌ Folder not found: {folder_path}\")\n"
      ],
      "metadata": {
        "colab": {
          "base_uri": "https://localhost:8080/"
        },
        "id": "Btm6ihkV7q3X",
        "outputId": "3802e8c8-c5eb-4815-92a3-d407768d047c"
      },
      "execution_count": null,
      "outputs": [
        {
          "output_type": "stream",
          "name": "stdout",
          "text": [
            "✅ Deleted folder: /content/drive/MyDrive/CV_tvsum_frames/J0nA4VgnoCo\n"
          ]
        }
      ]
    },
    {
      "cell_type": "code",
      "source": [
        "\n",
        "import shutil\n",
        "import os\n",
        "\n",
        "folder_path = \"/content/drive/MyDrive/CV_tvsum_frames/fWutDQy1nnY\"\n",
        "\n",
        "if os.path.exists(folder_path):\n",
        "    shutil.rmtree(folder_path)\n",
        "    print(f\"✅ Deleted folder: {folder_path}\")\n",
        "else:\n",
        "    print(f\"❌ Folder not found: {folder_path}\")\n"
      ],
      "metadata": {
        "id": "2uh5xFgw9A7y",
        "colab": {
          "base_uri": "https://localhost:8080/"
        },
        "outputId": "b17b89e1-3797-4687-c172-4b7d80fc2e93"
      },
      "execution_count": null,
      "outputs": [
        {
          "output_type": "stream",
          "name": "stdout",
          "text": [
            "✅ Deleted folder: /content/drive/MyDrive/CV_tvsum_frames/fWutDQy1nnY\n"
          ]
        }
      ]
    },
    {
      "cell_type": "code",
      "source": [
        "import cv2\n",
        "import os\n",
        "from tqdm import tqdm\n",
        "from google.colab import drive\n",
        "\n",
        "# Mount Google Drive\n",
        "drive.mount('/content/drive')\n",
        "\n",
        "def extract_all_frames(video_path, output_dir):\n",
        "    if not os.path.exists(output_dir):\n",
        "        os.makedirs(output_dir)\n",
        "\n",
        "    cap = cv2.VideoCapture(video_path)\n",
        "    if not cap.isOpened():\n",
        "        print(\"❌ Failed to open video:\", video_path)\n",
        "        return\n",
        "\n",
        "    total_frames = int(cap.get(cv2.CAP_PROP_FRAME_COUNT))\n",
        "    frame_count = 0\n",
        "    success = True\n",
        "\n",
        "    # tqdm for progress bar\n",
        "    with tqdm(total=total_frames, desc=f\"Extracting frames from {os.path.basename(video_path)}\") as pbar:\n",
        "        while success:\n",
        "            success, frame = cap.read()\n",
        "            if not success:\n",
        "                break\n",
        "            frame_filename = os.path.join(output_dir, f\"frame_{frame_count:05d}.jpg\")\n",
        "            cv2.imwrite(frame_filename, frame)\n",
        "            frame_count += 1\n",
        "            pbar.update(1)\n",
        "\n",
        "    cap.release()\n",
        "    print(f\"\\n✅ Extracted {frame_count} frames from {video_path} to {output_dir}\")\n",
        "\n",
        "# === Example usage for a single video file ===\n",
        "video_path = \"/content/drive/MyDrive/ydata-tvsum50-v1_1/ydata-tvsum50-video/video/kLxoNp-UchI.mp4\"\n",
        "output_dir = \"/content/drive/MyDrive/CV_tvsum_frames/kLxoNp-UchI\"\n",
        "extract_all_frames(video_path, output_dir)\n"
      ],
      "metadata": {
        "colab": {
          "base_uri": "https://localhost:8080/"
        },
        "id": "p8WfE_9LELz6",
        "outputId": "34d0915d-5c8f-4a1f-e781-240443a0f9aa"
      },
      "execution_count": null,
      "outputs": [
        {
          "output_type": "stream",
          "name": "stdout",
          "text": [
            "Drive already mounted at /content/drive; to attempt to forcibly remount, call drive.mount(\"/content/drive\", force_remount=True).\n"
          ]
        },
        {
          "output_type": "stream",
          "name": "stderr",
          "text": [
            "Extracting frames from kLxoNp-UchI.mp4: 100%|██████████| 3896/3896 [01:13<00:00, 53.29it/s]\n"
          ]
        },
        {
          "output_type": "stream",
          "name": "stdout",
          "text": [
            "\n",
            "✅ Extracted 3896 frames from /content/drive/MyDrive/ydata-tvsum50-v1_1/ydata-tvsum50-video/video/kLxoNp-UchI.mp4 to /content/drive/MyDrive/CV_tvsum_frames/kLxoNp-UchI\n"
          ]
        }
      ]
    },
    {
      "cell_type": "code",
      "source": [
        "\n",
        "# === Example usage for a single video file ===\n",
        "video_path = \"/content/drive/MyDrive/ydata-tvsum50-v1_1/ydata-tvsum50-video/video/jcoYJXDG9sw.mp4\"\n",
        "output_dir = \"/content/drive/MyDrive/CV_tvsum_frames/jcoYJXDG9sw\"\n",
        "extract_all_frames(video_path, output_dir)\n"
      ],
      "metadata": {
        "colab": {
          "base_uri": "https://localhost:8080/"
        },
        "id": "yeizURS6EMFd",
        "outputId": "e692e765-94b8-4638-fcca-991693bee0df"
      },
      "execution_count": null,
      "outputs": [
        {
          "output_type": "stream",
          "name": "stderr",
          "text": [
            "Extracting frames from jcoYJXDG9sw.mp4: 100%|██████████| 5971/5971 [01:54<00:00, 52.09it/s]"
          ]
        },
        {
          "output_type": "stream",
          "name": "stdout",
          "text": [
            "\n",
            "✅ Extracted 5971 frames from /content/drive/MyDrive/ydata-tvsum50-v1_1/ydata-tvsum50-video/video/jcoYJXDG9sw.mp4 to /content/drive/MyDrive/CV_tvsum_frames/jcoYJXDG9sw\n"
          ]
        },
        {
          "output_type": "stream",
          "name": "stderr",
          "text": [
            "\n"
          ]
        }
      ]
    },
    {
      "cell_type": "code",
      "source": [
        "\n",
        "# === Example usage for a single video file ===\n",
        "video_path = \"/content/drive/MyDrive/ydata-tvsum50-v1_1/ydata-tvsum50-video/video/qqR6AEXwxoQ.mp4\"\n",
        "output_dir = \"/content/drive/MyDrive/CV_tvsum_frames/qqR6AEXwxoQ\"\n",
        "extract_all_frames(video_path, output_dir)\n"
      ],
      "metadata": {
        "colab": {
          "base_uri": "https://localhost:8080/"
        },
        "id": "szbPRlR-EMIT",
        "outputId": "dff1deec-3dc6-4f05-e2af-a31d69bb004b"
      },
      "execution_count": null,
      "outputs": [
        {
          "output_type": "stream",
          "name": "stderr",
          "text": [
            "Extracting frames from qqR6AEXwxoQ.mp4: 100%|██████████| 8073/8073 [02:42<00:00, 49.62it/s]"
          ]
        },
        {
          "output_type": "stream",
          "name": "stdout",
          "text": [
            "\n",
            "✅ Extracted 8073 frames from /content/drive/MyDrive/ydata-tvsum50-v1_1/ydata-tvsum50-video/video/qqR6AEXwxoQ.mp4 to /content/drive/MyDrive/CV_tvsum_frames/qqR6AEXwxoQ\n"
          ]
        },
        {
          "output_type": "stream",
          "name": "stderr",
          "text": [
            "\n"
          ]
        }
      ]
    },
    {
      "cell_type": "code",
      "source": [],
      "metadata": {
        "id": "OrXoyMtuEMLq"
      },
      "execution_count": null,
      "outputs": []
    },
    {
      "cell_type": "code",
      "source": [],
      "metadata": {
        "id": "PaXWf0moQpvS"
      },
      "execution_count": null,
      "outputs": []
    }
  ]
}