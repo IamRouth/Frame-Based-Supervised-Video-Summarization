{
  "nbformat": 4,
  "nbformat_minor": 0,
  "metadata": {
    "colab": {
      "provenance": [],
      "gpuType": "T4"
    },
    "kernelspec": {
      "name": "python3",
      "display_name": "Python 3"
    },
    "language_info": {
      "name": "python"
    },
    "accelerator": "GPU"
  },
  "cells": [
    {
      "cell_type": "code",
      "execution_count": null,
      "metadata": {
        "id": "Y0RsQKNmPSjP"
      },
      "outputs": [],
      "source": [
        "import os\n",
        "import numpy as np\n",
        "from PIL import Image\n",
        "import torch\n",
        "import torchvision.models as models\n",
        "import torchvision.transforms as transforms\n",
        "import glob\n",
        "from torchvision.models import Inception_V3_Weights\n",
        "from tqdm import tqdm\n",
        "\n",
        "def load_inceptionv3_model(device):\n",
        "    \"\"\"Load pre-trained InceptionV3 model properly configured for feature extraction.\"\"\"\n",
        "    model = models.inception_v3(weights=Inception_V3_Weights.IMAGENET1K_V1)\n",
        "    model.fc = torch.nn.Identity()  # Replace final FC layer with identity\n",
        "    model.aux_logits = False  # Disable auxiliary classifiers\n",
        "    model.eval()\n",
        "    model.to(device)\n",
        "    print(f\"InceptionV3 model loaded on device: {device}\")\n",
        "    return model\n",
        "\n",
        "def preprocess_image(image_path, device):\n",
        "    \"\"\"Preprocess image for InceptionV3 with ImageNet normalization.\"\"\"\n",
        "    transform = transforms.Compose([\n",
        "        transforms.Resize((299, 299)),  # InceptionV3 requires 299x299\n",
        "        transforms.ToTensor(),\n",
        "        transforms.Normalize(mean=[0.485, 0.456, 0.406], std=[0.229, 0.224, 0.225])  # ImageNet standard\n",
        "    ])\n",
        "    try:\n",
        "        image = Image.open(image_path).convert('RGB')\n",
        "        image = transform(image).unsqueeze(0).to(device)  # Add batch dim and move to device\n",
        "        return image\n",
        "    except Exception as e:\n",
        "        print(f\"Error loading {image_path}: {str(e)}\")\n",
        "        return None\n",
        "\n",
        "def extract_features(model, image_path, device):\n",
        "    \"\"\"Extract features from a single image.\"\"\"\n",
        "    image = preprocess_image(image_path, device)\n",
        "    if image is None:\n",
        "        return None\n",
        "    with torch.no_grad():\n",
        "        features = model(image)\n",
        "    return features.squeeze().cpu().numpy()\n",
        "\n",
        "def process_video_frames(folder_path, output_dir, device, batch_size=None):\n",
        "    \"\"\"Process all frames in the folder and save features.\"\"\"\n",
        "    folder_name = os.path.basename(folder_path)\n",
        "    model = load_inceptionv3_model(device)\n",
        "\n",
        "    frame_paths = sorted(glob.glob(os.path.join(folder_path, 'frame_*.jpg')))\n",
        "    if not frame_paths:\n",
        "        print(f\"No frames found in {folder_path}\")\n",
        "        return\n",
        "\n",
        "    features_list = []\n",
        "    if batch_size is None:\n",
        "        # Single-image processing (as in your original code)\n",
        "        for frame_path in tqdm(frame_paths, desc=f\"Processing {folder_name}\"):\n",
        "            features = extract_features(model, frame_path, device)\n",
        "            if features is not None:\n",
        "                features_list.append(features)\n",
        "    else:\n",
        "        # Batch processing (optional, uncomment to use)\n",
        "        transform = transforms.Compose([\n",
        "            transforms.Resize((299, 299)),\n",
        "            transforms.ToTensor(),\n",
        "            transforms.Normalize(mean=[0.485, 0.456, 0.406], std=[0.229, 0.224, 0.225])\n",
        "        ])\n",
        "        for i in tqdm(range(0, len(frame_paths), batch_size), desc=f\"Processing {folder_name}\"):\n",
        "            batch_paths = frame_paths[i:i + batch_size]\n",
        "            batch_images = []\n",
        "            for frame_path in batch_paths:\n",
        "                try:\n",
        "                    image = Image.open(frame_path).convert('RGB')\n",
        "                    image = transform(image)\n",
        "                    batch_images.append(image)\n",
        "                except Exception as e:\n",
        "                    print(f\"Error loading {frame_path}: {str(e)}\")\n",
        "            if batch_images:\n",
        "                batch = torch.stack(batch_images).to(device)\n",
        "                with torch.no_grad():\n",
        "                    features = model(batch)\n",
        "                features = features.squeeze().cpu().numpy()\n",
        "                features_list.extend(features)\n",
        "\n",
        "    if features_list:\n",
        "        features_array = np.array(features_list)\n",
        "        os.makedirs(output_dir, exist_ok=True)\n",
        "        output_path = os.path.join(output_dir, f\"{folder_name}.npy\")\n",
        "        np.save(output_path, features_array)\n",
        "        print(f\"Saved features to {output_path} (shape: {features_array.shape})\")\n",
        "\n",
        "def main(dataset_root, output_dir):\n",
        "    \"\"\"Process video folders or a single video folder in the dataset.\"\"\"\n",
        "    device = torch.device(\"cuda\" if torch.cuda.is_available() else \"cpu\")\n",
        "    print(f\"Using device: {device}\")\n",
        "\n",
        "    os.makedirs(output_dir, exist_ok=True)\n",
        "\n",
        "    if os.path.isdir(dataset_root) and glob.glob(os.path.join(dataset_root, 'frame_*.jpg')):\n",
        "        print(f\"Processing single video folder: {os.path.basename(dataset_root)}\")\n",
        "        process_video_frames(dataset_root, output_dir, device)\n",
        "    else:\n",
        "        for folder_name in os.listdir(dataset_root):\n",
        "            folder_path = os.path.join(dataset_root, folder_name)\n",
        "            if os.path.isdir(folder_path):\n",
        "                print(f\"Processing folder: {folder_name}\")\n",
        "                process_video_frames(folder_path, output_dir, device)\n",
        "\n"
      ]
    },
    {
      "cell_type": "code",
      "source": [
        "if __name__ == \"__main__\":\n",
        "    from google.colab import drive\n",
        "    drive.mount('/content/drive', force_remount=True)\n",
        "\n",
        "    dataset_root = \"/content/drive/MyDrive/CV_tvsum_frames/b626MiF1ew4\"\n",
        "    output_dir = \"/content/drive/MyDrive/InceptionV3_features\"\n",
        "\n",
        "    main(dataset_root, output_dir)"
      ],
      "metadata": {
        "colab": {
          "base_uri": "https://localhost:8080/"
        },
        "id": "0497o0cVPesz",
        "outputId": "e5bd0f39-0060-4338-ea40-3a371865b3cb"
      },
      "execution_count": null,
      "outputs": [
        {
          "output_type": "stream",
          "name": "stdout",
          "text": [
            "Mounted at /content/drive\n",
            "Using device: cuda\n",
            "Processing single video folder: b626MiF1ew4\n"
          ]
        },
        {
          "output_type": "stream",
          "name": "stderr",
          "text": [
            "Downloading: \"https://download.pytorch.org/models/inception_v3_google-0cc3c7bd.pth\" to /root/.cache/torch/hub/checkpoints/inception_v3_google-0cc3c7bd.pth\n",
            "100%|██████████| 104M/104M [00:00<00:00, 148MB/s] \n"
          ]
        },
        {
          "output_type": "stream",
          "name": "stdout",
          "text": [
            "InceptionV3 model loaded on device: cuda\n"
          ]
        },
        {
          "output_type": "stream",
          "name": "stderr",
          "text": [
            "Processing b626MiF1ew4: 100%|██████████| 5661/5661 [03:41<00:00, 25.53it/s]\n"
          ]
        },
        {
          "output_type": "stream",
          "name": "stdout",
          "text": [
            "Saved features to /content/drive/MyDrive/InceptionV3_features/b626MiF1ew4.npy (shape: (5661, 2048))\n"
          ]
        }
      ]
    },
    {
      "cell_type": "code",
      "source": [
        "if __name__ == \"__main__\":\n",
        "    from google.colab import drive\n",
        "    drive.mount('/content/drive', force_remount=True)\n",
        "\n",
        "    dataset_root = \"/content/drive/MyDrive/CV_tvsum_frames/AwmHb44_ouw\"\n",
        "    output_dir = \"/content/drive/MyDrive/InceptionV3_features\"\n",
        "\n",
        "    main(dataset_root, output_dir)"
      ],
      "metadata": {
        "colab": {
          "base_uri": "https://localhost:8080/"
        },
        "id": "42iuMbn0Ri9I",
        "outputId": "f994e9ee-1e1f-4431-a4c8-9e6204dabd42"
      },
      "execution_count": null,
      "outputs": [
        {
          "output_type": "stream",
          "name": "stdout",
          "text": [
            "Mounted at /content/drive\n",
            "Using device: cuda\n",
            "Processing single video folder: AwmHb44_ouw\n",
            "InceptionV3 model loaded on device: cuda\n"
          ]
        },
        {
          "output_type": "stream",
          "name": "stderr",
          "text": [
            "Processing AwmHb44_ouw: 100%|██████████| 10597/10597 [06:29<00:00, 27.21it/s]\n"
          ]
        },
        {
          "output_type": "stream",
          "name": "stdout",
          "text": [
            "Saved features to /content/drive/MyDrive/InceptionV3_features/AwmHb44_ouw.npy (shape: (10597, 2048))\n"
          ]
        }
      ]
    },
    {
      "cell_type": "code",
      "source": [
        "import numpy as np\n",
        "import matplotlib.pyplot as plt\n",
        "\n",
        "# Load the .npy file\n",
        "npy_path = \"/content/drive/MyDrive/InceptionV3_features/AwmHb44_ouw.npy\"\n",
        "features = np.load(npy_path)\n",
        "\n",
        "# Plot histogram of all feature values\n",
        "plt.hist(features.flatten(), bins=100, density=True)\n",
        "plt.title(\"Distribution of InceptionV3 Features\")\n",
        "plt.xlabel(\"Feature Value\")\n",
        "plt.ylabel(\"Density\")\n",
        "plt.show()\n",
        "\n",
        "# Plot mean feature value per frame\n",
        "mean_features = np.mean(features, axis=1)\n",
        "plt.plot(mean_features)\n",
        "plt.title(\"Mean Feature Value per Frame\")\n",
        "plt.xlabel(\"Frame Index\")\n",
        "plt.ylabel(\"Mean Feature Value\")\n",
        "plt.show()"
      ],
      "metadata": {
        "colab": {
          "base_uri": "https://localhost:8080/",
          "height": 927
        },
        "id": "C8FjXq6sTilG",
        "outputId": "d7759a04-7fbc-41b5-f840-2f76529dca19"
      },
      "execution_count": null,
      "outputs": [
        {
          "output_type": "display_data",
          "data": {
            "text/plain": [
              "<Figure size 640x480 with 1 Axes>"
            ],
            "image/png": "[encoded data removed]"
          },
          "metadata": {}
        },
        {
          "output_type": "display_data",
          "data": {
            "text/plain": [
              "<Figure size 640x480 with 1 Axes>"
            ],
            "image/png": "[encoded data removed]"
          },
          "metadata": {}
        }
      ]
    },
    {
      "cell_type": "code",
      "source": [
        "if __name__ == \"__main__\":\n",
        "    from google.colab import drive\n",
        "    drive.mount('/content/drive', force_remount=True)\n",
        "\n",
        "    dataset_root = \"/content/drive/MyDrive/CV_tvsum_frames/91IHQYk1IQM\"\n",
        "    output_dir = \"/content/drive/MyDrive/InceptionV3_features\"\n",
        "\n",
        "    main(dataset_root, output_dir)"
      ],
      "metadata": {
        "colab": {
          "base_uri": "https://localhost:8080/"
        },
        "id": "wPD9YMs6Rw74",
        "outputId": "cb11d4cd-26dc-4c62-9195-b123c518e5bd"
      },
      "execution_count": null,
      "outputs": [
        {
          "output_type": "stream",
          "name": "stdout",
          "text": [
            "Mounted at /content/drive\n",
            "Using device: cuda\n",
            "Processing single video folder: 91IHQYk1IQM\n",
            "InceptionV3 model loaded on device: cuda\n"
          ]
        },
        {
          "output_type": "stream",
          "name": "stderr",
          "text": [
            "Processing 91IHQYk1IQM: 100%|██████████| 3312/3312 [02:17<00:00, 24.16it/s]\n"
          ]
        },
        {
          "output_type": "stream",
          "name": "stdout",
          "text": [
            "Saved features to /content/drive/MyDrive/InceptionV3_features/91IHQYk1IQM.npy (shape: (3312, 2048))\n"
          ]
        }
      ]
    },
    {
      "cell_type": "code",
      "source": [
        "if __name__ == \"__main__\":\n",
        "    from google.colab import drive\n",
        "    drive.mount('/content/drive', force_remount=True)\n",
        "\n",
        "    dataset_root = \"/content/drive/MyDrive/CV_tvsum_frames/3eYKfiOEJNs\"\n",
        "    output_dir = \"/content/drive/MyDrive/InceptionV3_features\"\n",
        "\n",
        "    main(dataset_root, output_dir)"
      ],
      "metadata": {
        "colab": {
          "base_uri": "https://localhost:8080/"
        },
        "id": "5q5aNQpBUvgZ",
        "outputId": "e49ff841-2ad0-4194-87a7-cb07c33b3167"
      },
      "execution_count": null,
      "outputs": [
        {
          "output_type": "stream",
          "name": "stdout",
          "text": [
            "Mounted at /content/drive\n",
            "Using device: cuda\n",
            "Processing single video folder: 3eYKfiOEJNs\n",
            "InceptionV3 model loaded on device: cuda\n"
          ]
        },
        {
          "output_type": "stream",
          "name": "stderr",
          "text": [
            "Processing 3eYKfiOEJNs: 100%|██████████| 4853/4853 [02:57<00:00, 27.29it/s]\n"
          ]
        },
        {
          "output_type": "stream",
          "name": "stdout",
          "text": [
            "Saved features to /content/drive/MyDrive/InceptionV3_features/3eYKfiOEJNs.npy (shape: (4853, 2048))\n"
          ]
        }
      ]
    },
    {
      "cell_type": "code",
      "source": [
        "if __name__ == \"__main__\":\n",
        "    from google.colab import drive\n",
        "    drive.mount('/content/drive', force_remount=True)\n",
        "\n",
        "    dataset_root = \"/content/drive/MyDrive/CV_tvsum_frames/akI8YFjEmUw\"\n",
        "    output_dir = \"/content/drive/MyDrive/InceptionV3_features\"\n",
        "\n",
        "    main(dataset_root, output_dir)"
      ],
      "metadata": {
        "colab": {
          "base_uri": "https://localhost:8080/"
        },
        "id": "xPRlc8BbV-t0",
        "outputId": "ffe88b53-b545-4b64-a154-d94f814e516e"
      },
      "execution_count": null,
      "outputs": [
        {
          "output_type": "stream",
          "name": "stdout",
          "text": [
            "Mounted at /content/drive\n",
            "Using device: cuda\n",
            "Processing single video folder: akI8YFjEmUw\n",
            "InceptionV3 model loaded on device: cuda\n"
          ]
        },
        {
          "output_type": "stream",
          "name": "stderr",
          "text": [
            "Processing akI8YFjEmUw: 100%|██████████| 3995/3995 [02:28<00:00, 26.84it/s]\n"
          ]
        },
        {
          "output_type": "stream",
          "name": "stdout",
          "text": [
            "Saved features to /content/drive/MyDrive/InceptionV3_features/akI8YFjEmUw.npy (shape: (3995, 2048))\n"
          ]
        }
      ]
    },
    {
      "cell_type": "code",
      "source": [
        "if __name__ == \"__main__\":\n",
        "    from google.colab import drive\n",
        "    drive.mount('/content/drive', force_remount=True)\n",
        "\n",
        "    dataset_root = \"/content/drive/MyDrive/CV_tvsum_frames/cjibtmSLxQ4\"\n",
        "    output_dir = \"/content/drive/MyDrive/InceptionV3_features\"\n",
        "\n",
        "    main(dataset_root, output_dir)"
      ],
      "metadata": {
        "colab": {
          "base_uri": "https://localhost:8080/"
        },
        "id": "-ElT579pWGj5",
        "outputId": "b17cb3c0-4a89-403a-ad90-977c2cb6b1ed"
      },
      "execution_count": null,
      "outputs": [
        {
          "output_type": "stream",
          "name": "stdout",
          "text": [
            "Mounted at /content/drive\n",
            "Using device: cuda\n",
            "Processing single video folder: cjibtmSLxQ4\n",
            "InceptionV3 model loaded on device: cuda\n"
          ]
        },
        {
          "output_type": "stream",
          "name": "stderr",
          "text": [
            "Processing cjibtmSLxQ4: 100%|██████████| 19406/19406 [12:15<00:00, 26.37it/s]\n"
          ]
        },
        {
          "output_type": "stream",
          "name": "stdout",
          "text": [
            "Saved features to /content/drive/MyDrive/InceptionV3_features/cjibtmSLxQ4.npy (shape: (19406, 2048))\n"
          ]
        }
      ]
    },
    {
      "cell_type": "code",
      "source": [
        "# 7\n",
        "if __name__ == \"__main__\":\n",
        "    from google.colab import drive\n",
        "    drive.mount('/content/drive', force_remount=True)\n",
        "\n",
        "    dataset_root = \"/content/drive/MyDrive/CV_tvsum_frames/EE-bNr36nyA\"\n",
        "    output_dir = \"/content/drive/MyDrive/InceptionV3_features\"\n",
        "\n",
        "    main(dataset_root, output_dir)"
      ],
      "metadata": {
        "colab": {
          "base_uri": "https://localhost:8080/"
        },
        "id": "CovVeBnhWGIi",
        "outputId": "75669963-d31b-43c6-b960-ad2cc983a659"
      },
      "execution_count": null,
      "outputs": [
        {
          "output_type": "stream",
          "name": "stdout",
          "text": [
            "Mounted at /content/drive\n",
            "Using device: cuda\n",
            "Processing single video folder: EE-bNr36nyA\n",
            "InceptionV3 model loaded on device: cuda\n"
          ]
        },
        {
          "output_type": "stream",
          "name": "stderr",
          "text": [
            "Processing EE-bNr36nyA: 100%|██████████| 2941/2941 [01:56<00:00, 25.24it/s]"
          ]
        },
        {
          "output_type": "stream",
          "name": "stdout",
          "text": [
            "Saved features to /content/drive/MyDrive/InceptionV3_features/EE-bNr36nyA.npy (shape: (2941, 2048))\n"
          ]
        },
        {
          "output_type": "stream",
          "name": "stderr",
          "text": [
            "\n"
          ]
        }
      ]
    },
    {
      "cell_type": "code",
      "source": [
        "# E11zDS9XGzg 8\n",
        "if __name__ == \"__main__\":\n",
        "    from google.colab import drive\n",
        "    drive.mount('/content/drive', force_remount=True)\n",
        "\n",
        "    dataset_root = \"/content/drive/MyDrive/CV_tvsum_frames/E11zDS9XGzg\"\n",
        "    output_dir = \"/content/drive/MyDrive/InceptionV3_features\"\n",
        "\n",
        "    main(dataset_root, output_dir)"
      ],
      "metadata": {
        "colab": {
          "base_uri": "https://localhost:8080/"
        },
        "id": "l_ssSd1WZVAT",
        "outputId": "daeae9df-15ca-4b66-e1f5-af9eeb0a38fa"
      },
      "execution_count": null,
      "outputs": [
        {
          "output_type": "stream",
          "name": "stdout",
          "text": [
            "Mounted at /content/drive\n",
            "Using device: cuda\n",
            "Processing single video folder: E11zDS9XGzg\n",
            "InceptionV3 model loaded on device: cuda\n"
          ]
        },
        {
          "output_type": "stream",
          "name": "stderr",
          "text": [
            "Processing E11zDS9XGzg: 100%|██████████| 15307/15307 [09:51<00:00, 25.87it/s]\n"
          ]
        },
        {
          "output_type": "stream",
          "name": "stdout",
          "text": [
            "Saved features to /content/drive/MyDrive/InceptionV3_features/E11zDS9XGzg.npy (shape: (15307, 2048))\n"
          ]
        }
      ]
    },
    {
      "cell_type": "code",
      "source": [
        " # 9\n",
        "if __name__ == \"__main__\":\n",
        "    from google.colab import drive\n",
        "    drive.mount('/content/drive', force_remount=True)\n",
        "\n",
        "    dataset_root = \"/content/drive/MyDrive/CV_tvsum_frames/-esJrBWj2d8\"\n",
        "    output_dir = \"/content/drive/MyDrive/InceptionV3_features\"\n",
        "\n",
        "    main(dataset_root, output_dir)"
      ],
      "metadata": {
        "colab": {
          "base_uri": "https://localhost:8080/"
        },
        "id": "R75Y6VRUZMl_",
        "outputId": "c4b87c0e-9774-4c23-b5d1-d25bfd703313"
      },
      "execution_count": null,
      "outputs": [
        {
          "output_type": "stream",
          "name": "stdout",
          "text": [
            "Mounted at /content/drive\n",
            "Using device: cuda\n",
            "Processing single video folder: -esJrBWj2d8\n",
            "InceptionV3 model loaded on device: cuda\n"
          ]
        },
        {
          "output_type": "stream",
          "name": "stderr",
          "text": [
            "Processing -esJrBWj2d8: 100%|██████████| 6912/6912 [04:54<00:00, 23.47it/s]\n"
          ]
        },
        {
          "output_type": "stream",
          "name": "stdout",
          "text": [
            "Saved features to /content/drive/MyDrive/InceptionV3_features/-esJrBWj2d8.npy (shape: (6912, 2048))\n"
          ]
        }
      ]
    },
    {
      "cell_type": "code",
      "source": [
        "# 10\n",
        "if __name__ == \"__main__\":\n",
        "    from google.colab import drive\n",
        "    drive.mount('/content/drive', force_remount=True)\n",
        "\n",
        "    dataset_root = \"/content/drive/MyDrive/CV_tvsum_frames/eQu1rNs0an0\"\n",
        "    output_dir = \"/content/drive/MyDrive/InceptionV3_features\"\n",
        "\n",
        "    main(dataset_root, output_dir)"
      ],
      "metadata": {
        "colab": {
          "base_uri": "https://localhost:8080/"
        },
        "id": "aZvxTQa5Zrb6",
        "outputId": "3040af33-a03d-4774-9de5-b55de032bc05"
      },
      "execution_count": null,
      "outputs": [
        {
          "output_type": "stream",
          "name": "stdout",
          "text": [
            "Mounted at /content/drive\n",
            "Using device: cuda\n",
            "Processing single video folder: eQu1rNs0an0\n",
            "InceptionV3 model loaded on device: cuda\n"
          ]
        },
        {
          "output_type": "stream",
          "name": "stderr",
          "text": [
            "Processing eQu1rNs0an0: 100%|██████████| 4931/4931 [03:06<00:00, 26.37it/s]\n"
          ]
        },
        {
          "output_type": "stream",
          "name": "stdout",
          "text": [
            "Saved features to /content/drive/MyDrive/InceptionV3_features/eQu1rNs0an0.npy (shape: (4931, 2048))\n"
          ]
        }
      ]
    },
    {
      "cell_type": "code",
      "source": [
        "# 11\n",
        "if __name__ == \"__main__\":\n",
        "    from google.colab import drive\n",
        "    drive.mount('/content/drive', force_remount=True)\n",
        "\n",
        "    dataset_root = \"/content/drive/MyDrive/CV_tvsum_frames/byxOvuiIJV0\"\n",
        "    output_dir = \"/content/drive/MyDrive/InceptionV3_features\"\n",
        "\n",
        "    main(dataset_root, output_dir)"
      ],
      "metadata": {
        "colab": {
          "base_uri": "https://localhost:8080/"
        },
        "id": "k9J7HIDaZyPu",
        "outputId": "282ce0cb-a7a1-4d7e-c50a-10d96ffe3449"
      },
      "execution_count": null,
      "outputs": [
        {
          "output_type": "stream",
          "name": "stdout",
          "text": [
            "Mounted at /content/drive\n",
            "Using device: cuda\n",
            "Processing single video folder: byxOvuiIJV0\n",
            "InceptionV3 model loaded on device: cuda\n"
          ]
        },
        {
          "output_type": "stream",
          "name": "stderr",
          "text": [
            "Processing byxOvuiIJV0: 100%|██████████| 3705/3705 [02:37<00:00, 23.55it/s]\n"
          ]
        },
        {
          "output_type": "stream",
          "name": "stdout",
          "text": [
            "Saved features to /content/drive/MyDrive/InceptionV3_features/byxOvuiIJV0.npy (shape: (3705, 2048))\n"
          ]
        }
      ]
    },
    {
      "cell_type": "code",
      "source": [
        "# 12\n",
        "if __name__ == \"__main__\":\n",
        "    from google.colab import drive\n",
        "    drive.mount('/content/drive', force_remount=True)\n",
        "\n",
        "    dataset_root = \"/content/drive/MyDrive/CV_tvsum_frames/EYqVtI9YWJA\"\n",
        "    output_dir = \"/content/drive/MyDrive/InceptionV3_features\"\n",
        "\n",
        "    main(dataset_root, output_dir)"
      ],
      "metadata": {
        "colab": {
          "base_uri": "https://localhost:8080/"
        },
        "id": "VzyBHTp3aN1q",
        "outputId": "eb252a8c-e067-4b0a-9a5b-b7da0ebd640d"
      },
      "execution_count": null,
      "outputs": [
        {
          "output_type": "stream",
          "name": "stdout",
          "text": [
            "Mounted at /content/drive\n",
            "Using device: cuda\n",
            "Processing single video folder: EYqVtI9YWJA\n",
            "InceptionV3 model loaded on device: cuda\n"
          ]
        },
        {
          "output_type": "stream",
          "name": "stderr",
          "text": [
            "Processing EYqVtI9YWJA: 100%|██████████| 5939/5939 [04:02<00:00, 24.49it/s]\n"
          ]
        },
        {
          "output_type": "stream",
          "name": "stdout",
          "text": [
            "Saved features to /content/drive/MyDrive/InceptionV3_features/EYqVtI9YWJA.npy (shape: (5939, 2048))\n"
          ]
        }
      ]
    },
    {
      "cell_type": "code",
      "source": [
        "# iVt07TCkFM0 13\n",
        "if __name__ == \"__main__\":\n",
        "    from google.colab import drive\n",
        "    drive.mount('/content/drive', force_remount=True)\n",
        "\n",
        "    dataset_root = \"/content/drive/MyDrive/CV_tvsum_frames/iVt07TCkFM0\"\n",
        "    output_dir = \"/content/drive/MyDrive/InceptionV3_features\"\n",
        "\n",
        "    main(dataset_root, output_dir)"
      ],
      "metadata": {
        "colab": {
          "base_uri": "https://localhost:8080/"
        },
        "id": "UGB1jPkVagDC",
        "outputId": "cd35bf73-3dfb-403c-8415-7bd6b49832ca"
      },
      "execution_count": null,
      "outputs": [
        {
          "output_type": "stream",
          "name": "stdout",
          "text": [
            "Mounted at /content/drive\n",
            "Using device: cuda\n",
            "Processing single video folder: iVt07TCkFM0\n",
            "InceptionV3 model loaded on device: cuda\n"
          ]
        },
        {
          "output_type": "stream",
          "name": "stderr",
          "text": [
            "Processing iVt07TCkFM0: 100%|██████████| 2500/2500 [01:38<00:00, 25.29it/s]\n"
          ]
        },
        {
          "output_type": "stream",
          "name": "stdout",
          "text": [
            "Saved features to /content/drive/MyDrive/InceptionV3_features/iVt07TCkFM0.npy (shape: (2500, 2048))\n"
          ]
        }
      ]
    },
    {
      "cell_type": "code",
      "source": [
        "#  14\n",
        "if __name__ == \"__main__\":\n",
        "    from google.colab import drive\n",
        "    drive.mount('/content/drive', force_remount=True)\n",
        "\n",
        "    dataset_root = \"/content/drive/MyDrive/CV_tvsum_frames/i3wAGJaaktw\"\n",
        "    output_dir = \"/content/drive/MyDrive/InceptionV3_features\"\n",
        "\n",
        "    main(dataset_root, output_dir)"
      ],
      "metadata": {
        "colab": {
          "base_uri": "https://localhost:8080/"
        },
        "id": "Dyh_Od-Qa7xl",
        "outputId": "fa927e63-0c32-4f42-d58f-c7a81f7efec6"
      },
      "execution_count": null,
      "outputs": [
        {
          "output_type": "stream",
          "name": "stdout",
          "text": [
            "Mounted at /content/drive\n",
            "Using device: cuda\n",
            "Processing single video folder: i3wAGJaaktw\n",
            "InceptionV3 model loaded on device: cuda\n"
          ]
        },
        {
          "output_type": "stream",
          "name": "stderr",
          "text": [
            "Processing i3wAGJaaktw: 100%|██████████| 4700/4700 [03:01<00:00, 25.82it/s]\n"
          ]
        },
        {
          "output_type": "stream",
          "name": "stdout",
          "text": [
            "Saved features to /content/drive/MyDrive/InceptionV3_features/i3wAGJaaktw.npy (shape: (4700, 2048))\n"
          ]
        }
      ]
    },
    {
      "cell_type": "code",
      "source": [
        "#  15\n",
        "if __name__ == \"__main__\":\n",
        "    from google.colab import drive\n",
        "    drive.mount('/content/drive', force_remount=True)\n",
        "\n",
        "    dataset_root = \"/content/drive/MyDrive/CV_tvsum_frames/Hl-__g2gn_A\"\n",
        "    output_dir = \"/content/drive/MyDrive/InceptionV3_features\"\n",
        "\n",
        "    main(dataset_root, output_dir)"
      ],
      "metadata": {
        "colab": {
          "base_uri": "https://localhost:8080/"
        },
        "id": "UBIamZ-4ci0x",
        "outputId": "ed94a1f1-3a2d-47da-bfbd-c509749169fe"
      },
      "execution_count": null,
      "outputs": [
        {
          "output_type": "stream",
          "name": "stdout",
          "text": [
            "Mounted at /content/drive\n",
            "Using device: cuda\n",
            "Processing single video folder: Hl-__g2gn_A\n",
            "InceptionV3 model loaded on device: cuda\n"
          ]
        },
        {
          "output_type": "stream",
          "name": "stderr",
          "text": [
            "Processing Hl-__g2gn_A:  19%|█▊        | 1096/5846 [02:11<01:41, 46.92it/s]"
          ]
        }
      ]
    },
    {
      "cell_type": "code",
      "source": [
        " # NEW1\n",
        "\n",
        "if __name__ == \"__main__\":\n",
        "    from google.colab import drive\n",
        "    drive.mount('/content/drive', force_remount=True)\n",
        "\n",
        "    dataset_root = \"/content/drive/MyDrive/CV_tvsum_frames/kLxoNp-UchI\"\n",
        "    output_dir = \"/content/drive/MyDrive/InceptionV3_features\"\n",
        "\n",
        "    main(dataset_root, output_dir)"
      ],
      "metadata": {
        "id": "NyRlKW2LcpDe",
        "colab": {
          "base_uri": "https://localhost:8080/"
        },
        "outputId": "fb43529e-2b10-43e0-d453-2e7ea47a9f44"
      },
      "execution_count": null,
      "outputs": [
        {
          "output_type": "stream",
          "name": "stdout",
          "text": [
            "Mounted at /content/drive\n",
            "Using device: cuda\n",
            "Processing single video folder: kLxoNp-UchI\n"
          ]
        },
        {
          "output_type": "stream",
          "name": "stderr",
          "text": [
            "Downloading: \"https://download.pytorch.org/models/inception_v3_google-0cc3c7bd.pth\" to /root/.cache/torch/hub/checkpoints/inception_v3_google-0cc3c7bd.pth\n",
            "100%|██████████| 104M/104M [00:00<00:00, 156MB/s] \n"
          ]
        },
        {
          "output_type": "stream",
          "name": "stdout",
          "text": [
            "InceptionV3 model loaded on device: cuda\n"
          ]
        },
        {
          "output_type": "stream",
          "name": "stderr",
          "text": [
            "Processing kLxoNp-UchI: 100%|██████████| 3896/3896 [02:40<00:00, 24.20it/s]\n"
          ]
        },
        {
          "output_type": "stream",
          "name": "stdout",
          "text": [
            "Saved features to /content/drive/MyDrive/InceptionV3_features/kLxoNp-UchI.npy (shape: (3896, 2048))\n"
          ]
        }
      ]
    },
    {
      "cell_type": "code",
      "source": [
        " # NEW2\n",
        "\n",
        "if __name__ == \"__main__\":\n",
        "    from google.colab import drive\n",
        "    drive.mount('/content/drive', force_remount=True)\n",
        "\n",
        "    dataset_root = \"/content/drive/MyDrive/CV_tvsum_frames/jcoYJXDG9sw\"\n",
        "    output_dir = \"/content/drive/MyDrive/InceptionV3_features\"\n",
        "\n",
        "    main(dataset_root, output_dir)"
      ],
      "metadata": {
        "colab": {
          "base_uri": "https://localhost:8080/"
        },
        "id": "3TJ0HTKdQuMs",
        "outputId": "041575ec-be0f-4fe9-a253-310114027873"
      },
      "execution_count": null,
      "outputs": [
        {
          "output_type": "stream",
          "name": "stdout",
          "text": [
            "Mounted at /content/drive\n",
            "Using device: cuda\n",
            "Processing single video folder: jcoYJXDG9sw\n",
            "InceptionV3 model loaded on device: cuda\n"
          ]
        },
        {
          "output_type": "stream",
          "name": "stderr",
          "text": [
            "Processing jcoYJXDG9sw: 100%|██████████| 5971/5971 [04:13<00:00, 23.55it/s]\n"
          ]
        },
        {
          "output_type": "stream",
          "name": "stdout",
          "text": [
            "Saved features to /content/drive/MyDrive/InceptionV3_features/jcoYJXDG9sw.npy (shape: (5971, 2048))\n"
          ]
        }
      ]
    },
    {
      "cell_type": "code",
      "source": [
        " # NEW3\n",
        "\n",
        "if __name__ == \"__main__\":\n",
        "    from google.colab import drive\n",
        "    drive.mount('/content/drive', force_remount=True)\n",
        "\n",
        "    dataset_root = \"/content/drive/MyDrive/CV_tvsum_frames/qqR6AEXwxoQ\"\n",
        "    output_dir = \"/content/drive/MyDrive/InceptionV3_features\"\n",
        "\n",
        "    main(dataset_root, output_dir)"
      ],
      "metadata": {
        "colab": {
          "base_uri": "https://localhost:8080/"
        },
        "id": "fDqHQ0bSQt-4",
        "outputId": "56797b79-e676-4811-9f2f-8a705988058d"
      },
      "execution_count": null,
      "outputs": [
        {
          "output_type": "stream",
          "name": "stdout",
          "text": [
            "Mounted at /content/drive\n",
            "Using device: cuda\n",
            "Processing single video folder: qqR6AEXwxoQ\n",
            "InceptionV3 model loaded on device: cuda\n"
          ]
        },
        {
          "output_type": "stream",
          "name": "stderr",
          "text": [
            "Processing qqR6AEXwxoQ: 100%|██████████| 8073/8073 [07:20<00:00, 18.34it/s]\n"
          ]
        },
        {
          "output_type": "stream",
          "name": "stdout",
          "text": [
            "Saved features to /content/drive/MyDrive/InceptionV3_features/qqR6AEXwxoQ.npy (shape: (8073, 2048))\n"
          ]
        }
      ]
    },
    {
      "cell_type": "code",
      "source": [
        " # NEW4\n",
        "\n",
        "if __name__ == \"__main__\":\n",
        "    from google.colab import drive\n",
        "    drive.mount('/content/drive', force_remount=True)\n",
        "\n",
        "    dataset_root = \"/content/drive/MyDrive/ata/CV_tvsum_frames/fWutDQy1nnY\"\n",
        "    output_dir = \"/content/drive/MyDrive/InceptionV3_features\"\n",
        "\n",
        "    main(dataset_root, output_dir)"
      ],
      "metadata": {
        "colab": {
          "base_uri": "https://localhost:8080/"
        },
        "id": "65EJoNm0R6JZ",
        "outputId": "fb95f594-fcb3-4cbf-edd8-f04ae27cd11e"
      },
      "execution_count": null,
      "outputs": [
        {
          "output_type": "stream",
          "name": "stdout",
          "text": [
            "Mounted at /content/drive\n",
            "Using device: cuda\n",
            "Processing single video folder: fWutDQy1nnY\n",
            "InceptionV3 model loaded on device: cuda\n"
          ]
        },
        {
          "output_type": "stream",
          "name": "stderr",
          "text": [
            "Processing fWutDQy1nnY: 100%|██████████| 17527/17527 [15:33<00:00, 18.77it/s]\n"
          ]
        },
        {
          "output_type": "stream",
          "name": "stdout",
          "text": [
            "Saved features to /content/drive/MyDrive/InceptionV3_features/fWutDQy1nnY.npy (shape: (17527, 2048))\n"
          ]
        }
      ]
    },
    {
      "cell_type": "code",
      "source": [
        " # NEW5\n",
        "\n",
        "if __name__ == \"__main__\":\n",
        "    from google.colab import drive\n",
        "    drive.mount('/content/drive', force_remount=True)\n",
        "\n",
        "    dataset_root = \"/content/drive/MyDrive/ata/CV_tvsum_frames/J0nA4VgnoCo\"\n",
        "    output_dir = \"/content/drive/MyDrive/InceptionV3_features\"\n",
        "\n",
        "    main(dataset_root, output_dir)"
      ],
      "metadata": {
        "colab": {
          "base_uri": "https://localhost:8080/"
        },
        "id": "3hyqiBsDS5mG",
        "outputId": "d46232cd-5e3f-4057-ab14-a37bcbd6c52a"
      },
      "execution_count": null,
      "outputs": [
        {
          "output_type": "stream",
          "name": "stdout",
          "text": [
            "Mounted at /content/drive\n",
            "Using device: cuda\n",
            "Processing single video folder: J0nA4VgnoCo\n",
            "InceptionV3 model loaded on device: cuda\n"
          ]
        },
        {
          "output_type": "stream",
          "name": "stderr",
          "text": [
            "Processing J0nA4VgnoCo: 100%|██████████| 14019/14019 [09:52<00:00, 23.65it/s]\n"
          ]
        },
        {
          "output_type": "stream",
          "name": "stdout",
          "text": [
            "Saved features to /content/drive/MyDrive/InceptionV3_features/J0nA4VgnoCo.npy (shape: (14019, 2048))\n"
          ]
        }
      ]
    },
    {
      "cell_type": "code",
      "source": [
        " # NEW6\n",
        "\n",
        "if __name__ == \"__main__\":\n",
        "    from google.colab import drive\n",
        "    drive.mount('/content/drive', force_remount=True)\n",
        "\n",
        "    dataset_root = \"/content/drive/MyDrive/ata/CV_tvsum_frames/oDXZc0tZe04\"\n",
        "    output_dir = \"/content/drive/MyDrive/InceptionV3_features\"\n",
        "\n",
        "    main(dataset_root, output_dir)"
      ],
      "metadata": {
        "colab": {
          "base_uri": "https://localhost:8080/"
        },
        "id": "qNjq3L16U7hb",
        "outputId": "079d30c0-a48c-4aa7-e35d-f2241e85383f"
      },
      "execution_count": null,
      "outputs": [
        {
          "output_type": "stream",
          "name": "stdout",
          "text": [
            "Mounted at /content/drive\n",
            "Using device: cuda\n",
            "Processing single video folder: oDXZc0tZe04\n",
            "InceptionV3 model loaded on device: cuda\n"
          ]
        },
        {
          "output_type": "stream",
          "name": "stderr",
          "text": [
            "Processing oDXZc0tZe04: 100%|██████████| 11414/11414 [06:45<00:00, 28.14it/s]\n"
          ]
        },
        {
          "output_type": "stream",
          "name": "stdout",
          "text": [
            "Saved features to /content/drive/MyDrive/InceptionV3_features/oDXZc0tZe04.npy (shape: (11414, 2048))\n"
          ]
        }
      ]
    },
    {
      "cell_type": "code",
      "source": [
        " # Old1\n",
        "\n",
        "if __name__ == \"__main__\":\n",
        "    from google.colab import drive\n",
        "    drive.mount('/content/drive', force_remount=True)\n",
        "\n",
        "    dataset_root = \"/content/drive/MyDrive/ata/CV_tvsum_frames/J0nA4VgnoCo\"\n",
        "    output_dir = \"/content/drive/MyDrive/InceptionV3_features\"\n",
        "\n",
        "    main(dataset_root, output_dir)"
      ],
      "metadata": {
        "id": "i8ZzWbQkTHns"
      },
      "execution_count": null,
      "outputs": []
    }
  ]
}